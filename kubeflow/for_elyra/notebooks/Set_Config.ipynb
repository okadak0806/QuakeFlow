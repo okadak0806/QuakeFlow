{
 "cells": [
  {
   "cell_type": "code",
   "execution_count": 1,
   "id": "0f2339a6",
   "metadata": {
    "execution": {
     "iopub.execute_input": "2025-08-13T04:42:58.319363Z",
     "iopub.status.busy": "2025-08-13T04:42:58.318831Z",
     "iopub.status.idle": "2025-08-13T04:42:58.551729Z",
     "shell.execute_reply": "2025-08-13T04:42:58.551145Z"
    },
    "papermill": {
     "duration": 0.236321,
     "end_time": "2025-08-13T04:42:58.552937",
     "exception": false,
     "start_time": "2025-08-13T04:42:58.316616",
     "status": "completed"
    },
    "tags": []
   },
   "outputs": [],
   "source": [
    "import datetime\n",
    "import json\n",
    "import os\n",
    "from pathlib import Path\n",
    "import pickle\n",
    "import numpy as np\n",
    "import obspy"
   ]
  },
  {
   "cell_type": "code",
   "execution_count": 2,
   "id": "9e1af64e",
   "metadata": {
    "execution": {
     "iopub.execute_input": "2025-08-13T04:42:58.556796Z",
     "iopub.status.busy": "2025-08-13T04:42:58.556337Z",
     "iopub.status.idle": "2025-08-13T04:42:58.559366Z",
     "shell.execute_reply": "2025-08-13T04:42:58.558864Z"
    },
    "papermill": {
     "duration": 0.005216,
     "end_time": "2025-08-13T04:42:58.560053",
     "exception": false,
     "start_time": "2025-08-13T04:42:58.554837",
     "status": "completed"
    },
    "tags": []
   },
   "outputs": [],
   "source": [
    "# 環境変数から設定を取得\n",
    "region_name = os.environ.get('REGION_NAME', 'Demo')\n",
    "num_parallel = int(os.environ.get('NUM_PARALLEL', '1'))\n"
   ]
  },
  {
   "cell_type": "code",
   "execution_count": 3,
   "id": "b58d3220",
   "metadata": {
    "execution": {
     "iopub.execute_input": "2025-08-13T04:42:58.563438Z",
     "iopub.status.busy": "2025-08-13T04:42:58.562879Z",
     "iopub.status.idle": "2025-08-13T04:42:58.572536Z",
     "shell.execute_reply": "2025-08-13T04:42:58.571999Z"
    },
    "papermill": {
     "duration": 0.012294,
     "end_time": "2025-08-13T04:42:58.573374",
     "exception": false,
     "start_time": "2025-08-13T04:42:58.561080",
     "status": "completed"
    },
    "tags": []
   },
   "outputs": [
    {
     "name": "stdout",
     "output_type": "stream",
     "text": [
      "Center coordinates: (-117.504, 35.705)\n",
      "Time range: 2019-07-04T17:00:00.000000Z to 2019-07-04T19:00:00.000000Z\n",
      "Networks: ['CI']\n",
      "Channels: HH*,BH*,EH*,HN*\n"
     ]
    }
   ],
   "source": [
    "degree2km = np.pi * 6371 / 180\n",
    "\n",
    "# 地域別設定（elifを使用）\n",
    "if region_name == \"Demo\":\n",
    "    center = (-117.504, 35.705)\n",
    "    horizontal_degree = 1.0\n",
    "    vertical_degree = 1.0\n",
    "    starttime = obspy.UTCDateTime(\"2019-07-04T17\")\n",
    "    endtime = obspy.UTCDateTime(\"2019-07-04T19\")\n",
    "    client = \"SCEDC\"\n",
    "    network_list = [\"CI\"]\n",
    "    channel_list = \"HH*,BH*,EH*,HN*\"\n",
    "\n",
    "elif region_name == \"Ridgecrest\":\n",
    "    center = (-117.504, 35.705)\n",
    "    horizontal_degree = 1.0\n",
    "    vertical_degree = 1.0\n",
    "    starttime = obspy.UTCDateTime(\"2019-07-04T00\")\n",
    "    endtime = obspy.UTCDateTime(\"2019-07-10T00\")\n",
    "    client = \"SCEDC\"\n",
    "    network_list = [\"CI\"]\n",
    "    channel_list = \"HH*,BH*,EH*,HN*\"\n",
    "\n",
    "elif region_name == \"Japan\":\n",
    "    center = (138.0, 36.0)\n",
    "    horizontal_degree = 10.0\n",
    "    vertical_degree = 8.0\n",
    "    starttime = obspy.UTCDateTime(\"2024-01-01T00\")\n",
    "    endtime = obspy.UTCDateTime(\"2024-01-31T00\")\n",
    "    client = \"NIED\"\n",
    "    network_list = [\"N.NIED\"]\n",
    "    channel_list = \"HH*,BH*,EH*\"\n",
    "\n",
    "elif region_name == \"Hawaii\":\n",
    "    center = (-155.32, 19.39)\n",
    "    horizontal_degree = 2.0\n",
    "    vertical_degree = 2.0\n",
    "    starttime = obspy.UTCDateTime(\"2018-01-01T00\")\n",
    "    endtime = obspy.UTCDateTime(\"2022-08-12T00\")\n",
    "    client = \"IRIS\"\n",
    "    network_list = [\"HV\", \"PT\"]\n",
    "    channel_list = \"HH*,BH*,EH*,HN*\"\n",
    "\n",
    "elif region_name == \"Hawaii2\":\n",
    "    center = (-155.32, 19.39)\n",
    "    horizontal_degree = 2.0\n",
    "    vertical_degree = 2.0\n",
    "    starttime = obspy.UTCDateTime(\"2022-08-01T00\")\n",
    "    endtime = obspy.UTCDateTime(\"2022-08-16T00\")\n",
    "    client = \"IRIS\"\n",
    "    network_list = [\"HV\", \"PT\"]\n",
    "    channel_list = \"HH*,BH*,EH*,HN*\"\n",
    "\n",
    "elif region_name == \"PuertoRico\":\n",
    "    center = (-66.5, 18)\n",
    "    horizontal_degree = 3.0\n",
    "    vertical_degree = 2.0\n",
    "    starttime = obspy.UTCDateTime(\"2018-05-01T00\")\n",
    "    endtime = obspy.UTCDateTime(\"2021-11-01T00\")\n",
    "    client = \"IRIS\"\n",
    "    network_list = [\"*\"]\n",
    "    channel_list = \"HH*,BH*,HN*\"\n",
    "\n",
    "elif region_name == \"SaltonSea\":\n",
    "    center = (-115.53, 32.98)\n",
    "    horizontal_degree = 1.0\n",
    "    vertical_degree = 1.0\n",
    "    starttime = obspy.UTCDateTime(\"2020-10-01T00\")\n",
    "    endtime = obspy.UTCDateTime(\"2020-10-01T02\")\n",
    "    client = \"SCEDC\"\n",
    "    network_list = [\"CI\"]\n",
    "    channel_list = \"HH*,BH*,EH*,HN*\"\n",
    "\n",
    "elif region_name == \"2003SanSimeon\":\n",
    "    center = (-121.101, 35.701)\n",
    "    horizontal_degree = 1.0\n",
    "    vertical_degree = 1.0\n",
    "    starttime = obspy.UTCDateTime(\"2003-12-22T00\")\n",
    "    endtime = obspy.UTCDateTime(\"2003-12-24T00\")\n",
    "    client = \"NCEDC\"\n",
    "    network_list = [\"*\"]\n",
    "    channel_list = \"HH*,BH*,EH*,HN*\"\n",
    "\n",
    "elif region_name == \"Italy\":\n",
    "    center = (13.188, 42.723)\n",
    "    horizontal_degree = 1.0\n",
    "    vertical_degree = 1.0\n",
    "    starttime = obspy.UTCDateTime(\"2016-08-24T00\")\n",
    "    endtime = obspy.UTCDateTime(\"2016-08-26T00\")\n",
    "    client = \"INGV\"\n",
    "    network_list = [\"*\"]\n",
    "    channel_list = \"HH*,BH*,EH*,HN*\"\n",
    "\n",
    "elif region_name == \"SmithValley\":\n",
    "    center = (-119.5, 38.51)\n",
    "    horizontal_degree = 1.0\n",
    "    vertical_degree = 1.0\n",
    "    starttime = obspy.UTCDateTime(\"2021-07-08T00:00\")\n",
    "    endtime = obspy.UTCDateTime(\"2021-07-16T00:00\")\n",
    "    client = \"NCEDC\"\n",
    "    network_list = [\"*\"]\n",
    "    channel_list = \"HH*,BH*,EH*,HN*\"\n",
    "\n",
    "elif region_name == \"Antilles\":\n",
    "    center = (-61.14867, 14.79683)\n",
    "    horizontal_degree = 0.2\n",
    "    vertical_degree = 0.2\n",
    "    starttime = obspy.UTCDateTime(\"2021-04-10T00\")\n",
    "    endtime = obspy.UTCDateTime(\"2021-04-15T00\")\n",
    "    client = \"RESIF\"\n",
    "    network_list = [\"*\"]\n",
    "    channel_list = \"HH*,BH*,EH*,HN*\"\n",
    "\n",
    "elif region_name == \"LongValley\":\n",
    "    center = (-118.8 - 0.1, 37.6)\n",
    "    horizontal_degree = 1.5\n",
    "    vertical_degree = 1.5\n",
    "    starttime = obspy.UTCDateTime(\"2020-01-01T00\")\n",
    "    endtime = obspy.UTCDateTime(\"2022-08-11T00\")\n",
    "    client = \"NCEDC\"\n",
    "    network_list = [\"*\"]\n",
    "    channel_list = \"HH*,EH*\"\n",
    "\n",
    "elif region_name == \"SierraNegra\":\n",
    "    center = (-91.13, -0.81)\n",
    "    horizontal_degree = 1.5\n",
    "    vertical_degree = 1.5\n",
    "    starttime = obspy.UTCDateTime(\"2009-07-22T00\")\n",
    "    endtime = obspy.UTCDateTime(\"2011-06-20T00\")\n",
    "    client = \"IRIS\"\n",
    "    network_list = [\"*\"]\n",
    "    channel_list = \"BH*,HH*,EH*\"\n",
    "\n",
    "else:\n",
    "    # デフォルト設定\n",
    "    center = (-117.504, 35.705)\n",
    "    horizontal_degree = 1.0\n",
    "    vertical_degree = 1.0\n",
    "    starttime = obspy.UTCDateTime(\"2019-07-04T00\")\n",
    "    endtime = obspy.UTCDateTime(\"2019-07-10T00\")\n",
    "    client = \"SCEDC\"\n",
    "    network_list = [\"CI\"]\n",
    "    channel_list = \"HH*,BH*,EH*,HN*\"\n",
    "\n",
    "print(f\"Center coordinates: {center}\")\n",
    "print(f\"Time range: {starttime} to {endtime}\")\n",
    "print(f\"Networks: {network_list}\")\n",
    "print(f\"Channels: {channel_list}\")"
   ]
  },
  {
   "cell_type": "code",
   "execution_count": 4,
   "id": "93db4c8e",
   "metadata": {
    "execution": {
     "iopub.execute_input": "2025-08-13T04:42:58.576410Z",
     "iopub.status.busy": "2025-08-13T04:42:58.576102Z",
     "iopub.status.idle": "2025-08-13T04:42:58.579564Z",
     "shell.execute_reply": "2025-08-13T04:42:58.578832Z"
    },
    "papermill": {
     "duration": 0.00586,
     "end_time": "2025-08-13T04:42:58.580442",
     "exception": false,
     "start_time": "2025-08-13T04:42:58.574582",
     "status": "completed"
    },
    "tags": []
   },
   "outputs": [],
   "source": [
    "config_dir_name ='config'\n",
    "config_dir = Path(config_dir_name)\n",
    "if not config_dir.exists():\n",
    "    config_dir.mkdir(parents=True)\n",
    "\n",
    "config_json = config_dir / 'config.json'\n",
    "datetime_json = config_dir / 'datetime.json'\n",
    "index_json = config_dir / 'index.json'"
   ]
  },
  {
   "cell_type": "code",
   "execution_count": 5,
   "id": "20342ff2",
   "metadata": {
    "execution": {
     "iopub.execute_input": "2025-08-13T04:42:58.583785Z",
     "iopub.status.busy": "2025-08-13T04:42:58.583488Z",
     "iopub.status.idle": "2025-08-13T04:42:58.588412Z",
     "shell.execute_reply": "2025-08-13T04:42:58.587795Z"
    },
    "papermill": {
     "duration": 0.007633,
     "end_time": "2025-08-13T04:42:58.589410",
     "exception": false,
     "start_time": "2025-08-13T04:42:58.581777",
     "status": "completed"
    },
    "tags": []
   },
   "outputs": [
    {
     "name": "stdout",
     "output_type": "stream",
     "text": [
      "Configuration created for region: Demo\n",
      "{\n",
      "  \"region\": \"Demo\",\n",
      "  \"center\": [\n",
      "    -117.504,\n",
      "    35.705\n",
      "  ],\n",
      "  \"xlim_degree\": [\n",
      "    -118.004,\n",
      "    -117.004\n",
      "  ],\n",
      "  \"ylim_degree\": [\n",
      "    35.205,\n",
      "    36.205\n",
      "  ],\n",
      "  \"min_longitude\": -118.004,\n",
      "  \"max_longitude\": -117.004,\n",
      "  \"min_latitude\": 35.205,\n",
      "  \"max_latitude\": 36.205,\n",
      "  \"degree2km\": 111.19492664455873,\n",
      "  \"starttime\": \"2019-07-04T17:00:00.000\",\n",
      "  \"endtime\": \"2019-07-04T19:00:00.000\",\n",
      "  \"networks\": [\n",
      "    \"CI\"\n",
      "  ],\n",
      "  \"channels\": \"HH*,BH*,EH*,HN*\",\n",
      "  \"client\": \"SCEDC\",\n",
      "  \"phasenet\": {},\n",
      "  \"gamma\": {},\n",
      "  \"hypodd\": {\n",
      "    \"MAXEVENT\": 10000.0\n",
      "  }\n",
      "}\n"
     ]
    }
   ],
   "source": [
    "# 設定辞書を作成\n",
    "config = {\n",
    "    \"region\": region_name,\n",
    "    \"center\": center,\n",
    "    \"xlim_degree\": [\n",
    "        center[0] - horizontal_degree / 2,\n",
    "        center[0] + horizontal_degree / 2,\n",
    "    ],\n",
    "    \"ylim_degree\": [\n",
    "        center[1] - vertical_degree / 2,\n",
    "        center[1] + vertical_degree / 2,\n",
    "    ],\n",
    "    \"min_longitude\": center[0] - horizontal_degree / 2,\n",
    "    \"max_longitude\": center[0] + horizontal_degree / 2,\n",
    "    \"min_latitude\": center[1] - vertical_degree / 2,\n",
    "    \"max_latitude\": center[1] + vertical_degree / 2,\n",
    "    \"degree2km\": degree2km,\n",
    "    \"starttime\": starttime.datetime.isoformat(timespec=\"milliseconds\"),\n",
    "    \"endtime\": endtime.datetime.isoformat(timespec=\"milliseconds\"),\n",
    "    \"networks\": network_list,\n",
    "    \"channels\": channel_list,\n",
    "    \"client\": client,\n",
    "    \"phasenet\": {},\n",
    "    \"gamma\": {},\n",
    "    \"hypodd\": {\"MAXEVENT\": 1e4}\n",
    "}\n",
    "\n",
    "# 設定ファイルを保存\n",
    "with open(config_json, \"w\") as fp:\n",
    "    json.dump(config, fp, indent=2)\n",
    "\n",
    "print(f\"Configuration created for region: {region_name}\")\n",
    "print(json.dumps(config, indent=2))"
   ]
  },
  {
   "cell_type": "code",
   "execution_count": 6,
   "id": "37ec54f0",
   "metadata": {
    "execution": {
     "iopub.execute_input": "2025-08-13T04:42:58.592699Z",
     "iopub.status.busy": "2025-08-13T04:42:58.592333Z",
     "iopub.status.idle": "2025-08-13T04:42:58.597936Z",
     "shell.execute_reply": "2025-08-13T04:42:58.597272Z"
    },
    "papermill": {
     "duration": 0.008827,
     "end_time": "2025-08-13T04:42:58.599480",
     "exception": false,
     "start_time": "2025-08-13T04:42:58.590653",
     "status": "completed"
    },
    "tags": []
   },
   "outputs": [
    {
     "name": "stdout",
     "output_type": "stream",
     "text": [
      "Created 2 time slots for 1 parallel processes\n",
      "Time slots per process: [2]\n"
     ]
    }
   ],
   "source": [
    "# 並列処理用のインデックスを作成\n",
    "one_hour = datetime.timedelta(hours=1)\n",
    "starttimes = []\n",
    "tmp_start = starttime\n",
    "while tmp_start < endtime:\n",
    "    starttimes.append(tmp_start.datetime.isoformat(timespec=\"milliseconds\"))\n",
    "    tmp_start += one_hour\n",
    "\n",
    "# 日時情報を保存\n",
    "with open(datetime_json, \"w\") as fp:\n",
    "    json.dump(\n",
    "        {\"starttimes\": starttimes, \"interval\": one_hour.total_seconds()},\n",
    "        fp,\n",
    "        indent=2,\n",
    "    )\n",
    "\n",
    "# 並列処理のインデックスを作成\n",
    "if num_parallel == 0:\n",
    "    num_parallel = min(60, int((len(starttimes) - 1) // 6 + 1))\n",
    "\n",
    "idx = [x.tolist() for x in np.array_split(np.arange(len(starttimes)), num_parallel)]\n",
    "\n",
    "with open(index_json, \"w\") as fp:\n",
    "    json.dump(idx, fp, indent=2)\n",
    "\n",
    "print(f\"Created {len(starttimes)} time slots for {num_parallel} parallel processes\")\n",
    "print(f\"Time slots per process: {[len(x) for x in idx]}\")"
   ]
  },
  {
   "cell_type": "code",
   "execution_count": 7,
   "id": "a910bece",
   "metadata": {
    "execution": {
     "iopub.execute_input": "2025-08-13T04:42:58.603202Z",
     "iopub.status.busy": "2025-08-13T04:42:58.602979Z",
     "iopub.status.idle": "2025-08-13T04:42:58.606660Z",
     "shell.execute_reply": "2025-08-13T04:42:58.606041Z"
    },
    "papermill": {
     "duration": 0.007002,
     "end_time": "2025-08-13T04:42:58.607893",
     "exception": false,
     "start_time": "2025-08-13T04:42:58.600891",
     "status": "completed"
    },
    "tags": []
   },
   "outputs": [
    {
     "name": "stdout",
     "output_type": "stream",
     "text": [
      "Configuration files saved locally in 'config/' directory:\n",
      "  - config/config.json\n",
      "  - config/datetime.json\n",
      "  - config/index.json\n",
      "Files will be automatically synchronized to MinIO bucket by Elyra runtime\n"
     ]
    }
   ],
   "source": [
    "print(f\"Configuration files saved locally in '{config_dir_name}/' directory:\")\n",
    "for config_file in [config_json, datetime_json, index_json]:\n",
    "    if config_file.exists():\n",
    "        print(f\"  - {config_file}\")\n",
    "        \n",
    "print(f\"Files will be automatically synchronized to MinIO bucket by Elyra runtime\")"
   ]
  },
  {
   "cell_type": "code",
   "execution_count": 8,
   "id": "e0f2fcde",
   "metadata": {
    "execution": {
     "iopub.execute_input": "2025-08-13T04:42:58.611960Z",
     "iopub.status.busy": "2025-08-13T04:42:58.611623Z",
     "iopub.status.idle": "2025-08-13T04:42:58.615841Z",
     "shell.execute_reply": "2025-08-13T04:42:58.614863Z"
    },
    "papermill": {
     "duration": 0.006935,
     "end_time": "2025-08-13T04:42:58.616673",
     "exception": false,
     "start_time": "2025-08-13T04:42:58.609738",
     "status": "completed"
    },
    "tags": []
   },
   "outputs": [],
   "source": [
    "# Kubeflow Pipelines UI用のメタデータ出力\n",
    "if os.environ.get('ELYRA_RUNTIME_ENV') == 'kfp':\n",
    "    # For information about Elyra environment variables refer to\n",
    "    # https://elyra.readthedocs.io/en/stable/user_guide/best-practices-file-based-nodes.html#proprietary-environment-variables\n",
    "\n",
    "    metadata = {\n",
    "        'outputs': [\n",
    "            {\n",
    "                'storage': 'inline',\n",
    "                'source': f'# Configuration Setup Complete\\n...',\n",
    "                'type': 'markdown',\n",
    "            }\n",
    "        ]\n",
    "    }\n",
    "\n",
    "    with open('mlpipeline-ui-metadata.json', 'w') as f:\n",
    "        json.dump(metadata, f)"
   ]
  }
 ],
 "metadata": {
  "kernelspec": {
   "display_name": "Python 3 (ipykernel)",
   "language": "python",
   "name": "python3"
  },
  "language_info": {
   "codemirror_mode": {
    "name": "ipython",
    "version": 3
   },
   "file_extension": ".py",
   "mimetype": "text/x-python",
   "name": "python",
   "nbconvert_exporter": "python",
   "pygments_lexer": "ipython3",
   "version": "3.10.13"
  },
  "papermill": {
   "default_parameters": {},
   "duration": 1.121011,
   "end_time": "2025-08-13T04:42:58.835801",
   "environment_variables": {},
   "exception": null,
   "input_path": "/home/okadak/work/QuakeFlow/kubeflow/for_elyra/notebooks/Set_Config.ipynb",
   "output_path": "/home/okadak/work/QuakeFlow/kubeflow/for_elyra/notebooks/Set_Config.ipynb",
   "parameters": {},
   "start_time": "2025-08-13T04:42:57.714790",
   "version": "2.6.0"
  }
 },
 "nbformat": 4,
 "nbformat_minor": 5
}