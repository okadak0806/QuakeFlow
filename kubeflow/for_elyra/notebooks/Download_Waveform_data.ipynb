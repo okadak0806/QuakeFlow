{
 "cells": [
  {
   "cell_type": "code",
   "execution_count": 1,
   "id": "5d1febb3",
   "metadata": {
    "execution": {
     "iopub.execute_input": "2025-08-13T04:43:26.764234Z",
     "iopub.status.busy": "2025-08-13T04:43:26.763933Z",
     "iopub.status.idle": "2025-08-13T04:43:27.101719Z",
     "shell.execute_reply": "2025-08-13T04:43:27.101089Z"
    },
    "papermill": {
     "duration": 0.341698,
     "end_time": "2025-08-13T04:43:27.102919",
     "exception": false,
     "start_time": "2025-08-13T04:43:26.761221",
     "status": "completed"
    },
    "tags": []
   },
   "outputs": [],
   "source": [
    "\n",
    "import json\n",
    "import os\n",
    "import pickle\n",
    "import random\n",
    "import threading\n",
    "import time\n",
    "\n",
    "import obspy\n",
    "from obspy.clients.fdsn import Client\n",
    "\n"
   ]
  },
  {
   "cell_type": "code",
   "execution_count": 2,
   "id": "6982d046",
   "metadata": {
    "execution": {
     "iopub.execute_input": "2025-08-13T04:43:27.106991Z",
     "iopub.status.busy": "2025-08-13T04:43:27.106427Z",
     "iopub.status.idle": "2025-08-13T04:44:16.262607Z",
     "shell.execute_reply": "2025-08-13T04:44:16.261500Z"
    },
    "papermill": {
     "duration": 49.159188,
     "end_time": "2025-08-13T04:44:16.264003",
     "exception": false,
     "start_time": "2025-08-13T04:43:27.104815",
     "status": "completed"
    },
    "tags": []
   },
   "outputs": [
    {
     "name": "stdout",
     "output_type": "stream",
     "text": [
      "2019-07-04T17:00:00.mseed download starts\n",
      "********CI.CCC********\n"
     ]
    },
    {
     "name": "stdout",
     "output_type": "stream",
     "text": [
      "2019-07-04T18:00:00.mseed download starts\n",
      "********CI.CCC********\n"
     ]
    },
    {
     "name": "stdout",
     "output_type": "stream",
     "text": [
      "********CI.CLC********\n"
     ]
    },
    {
     "name": "stdout",
     "output_type": "stream",
     "text": [
      "********CI.CLC********\n",
      "********CI.DTP********\n"
     ]
    },
    {
     "name": "stdout",
     "output_type": "stream",
     "text": [
      "********CI.JRC2********\n"
     ]
    },
    {
     "name": "stdout",
     "output_type": "stream",
     "text": [
      "********CI.DTP********\n"
     ]
    },
    {
     "name": "stdout",
     "output_type": "stream",
     "text": [
      "********CI.LRL********\n",
      "********CI.JRC2********\n"
     ]
    },
    {
     "name": "stdout",
     "output_type": "stream",
     "text": [
      "********CI.LRL********\n"
     ]
    },
    {
     "name": "stdout",
     "output_type": "stream",
     "text": [
      "********CI.MPM********\n"
     ]
    },
    {
     "name": "stdout",
     "output_type": "stream",
     "text": [
      "********CI.Q0072********\n",
      "********CI.MPM********\n"
     ]
    },
    {
     "name": "stdout",
     "output_type": "stream",
     "text": [
      "Error CI.Q0072: No data available for request.\n",
      "HTTP Status code: 204\n",
      "Detailed response of server:\n",
      "\n",
      "\n",
      "********CI.SLA********\n"
     ]
    },
    {
     "name": "stdout",
     "output_type": "stream",
     "text": [
      "********CI.Q0072********\n"
     ]
    },
    {
     "name": "stdout",
     "output_type": "stream",
     "text": [
      "Error CI.Q0072: No data available for request.\n",
      "HTTP Status code: 204\n",
      "Detailed response of server:\n",
      "\n",
      "\n",
      "********CI.SLA********\n"
     ]
    },
    {
     "name": "stdout",
     "output_type": "stream",
     "text": [
      "********CI.SRT********\n"
     ]
    },
    {
     "name": "stdout",
     "output_type": "stream",
     "text": [
      "********CI.TOW2********\n",
      "********CI.SRT********\n"
     ]
    },
    {
     "name": "stdout",
     "output_type": "stream",
     "text": [
      "********CI.TOW2********\n"
     ]
    },
    {
     "name": "stdout",
     "output_type": "stream",
     "text": [
      "********CI.WBM********\n"
     ]
    },
    {
     "name": "stdout",
     "output_type": "stream",
     "text": [
      "********CI.WCS2********\n",
      "********CI.WBM********\n"
     ]
    },
    {
     "name": "stdout",
     "output_type": "stream",
     "text": [
      "********CI.WCS2********\n"
     ]
    },
    {
     "name": "stdout",
     "output_type": "stream",
     "text": [
      "********CI.WMF********\n"
     ]
    },
    {
     "name": "stdout",
     "output_type": "stream",
     "text": [
      "********CI.WNM********\n",
      "********CI.WMF********\n"
     ]
    },
    {
     "name": "stdout",
     "output_type": "stream",
     "text": [
      "********CI.WRC2********\n",
      "********CI.WNM********\n"
     ]
    },
    {
     "name": "stdout",
     "output_type": "stream",
     "text": [
      "********CI.WRC2********\n"
     ]
    },
    {
     "name": "stdout",
     "output_type": "stream",
     "text": [
      "********CI.WRV2********\n"
     ]
    },
    {
     "name": "stdout",
     "output_type": "stream",
     "text": [
      "********CI.WVP2********\n",
      "********CI.WRV2********\n"
     ]
    },
    {
     "name": "stdout",
     "output_type": "stream",
     "text": [
      "********CI.WVP2********\n"
     ]
    },
    {
     "name": "stdout",
     "output_type": "stream",
     "text": [
      "2019-07-04T17:00:00.mseed download succeeds\n"
     ]
    },
    {
     "name": "stdout",
     "output_type": "stream",
     "text": [
      "2019-07-04T18:00:00.mseed download succeeds\n"
     ]
    }
   ],
   "source": [
    "\n",
    "lock = threading.Lock()\n",
    "node_i = 0\n",
    "# upload_minio = True\n",
    "# try:\n",
    "#     from minio import Minio\n",
    "\n",
    "#     minioClient = Minio(s3_url, access_key='minio', secret_key='minio123', secure=secure)\n",
    "#     if not minioClient.bucket_exists(bucket_name):\n",
    "#         minioClient.make_bucket(bucket_name)\n",
    "#     upload_minio = True\n",
    "# except Exception as err:\n",
    "#     # print(f\"ERROR: can not access minio service! \\n{err}\")\n",
    "#     pass\n",
    "\n",
    "with open(\"config/index.json\", \"r\") as fp:\n",
    "    index = json.load(fp)\n",
    "idx = index[node_i]\n",
    "with open(\"config/config.json\", \"r\") as fp:\n",
    "    config = json.load(fp)\n",
    "with open(\"config/datetime.json\", \"r\") as fp:\n",
    "    tmp = json.load(fp)\n",
    "    starttimes = tmp[\"starttimes\"]\n",
    "    interval = tmp[\"interval\"]\n",
    "with open(\"stations/stations.pkl\", \"rb\") as fp:\n",
    "    stations = pickle.load(fp)\n",
    "\n",
    "#waveform_dir = os.path.join(data_path, config[\"region\"], \"waveforms\")\n",
    "waveform_dir = os.path.join(\"waveforms\")\n",
    "if not os.path.exists(waveform_dir):\n",
    "    os.makedirs(waveform_dir)\n",
    "\n",
    "####### Download data ########\n",
    "client = Client(config[\"client\"])\n",
    "fname_list = [\"fname\"]\n",
    "\n",
    "def download(i):\n",
    "    #     for i in idx:\n",
    "    starttime = obspy.UTCDateTime(starttimes[i])\n",
    "    endtime = starttime + interval\n",
    "    fname = \"{}.mseed\".format(starttime.datetime.strftime(\"%Y-%m-%dT%H:%M:%S\"))\n",
    "    # if not upload_minio:\n",
    "    #     if os.path.exists(os.path.join(waveform_dir, fname)):\n",
    "    #         print(f\"{fname} exists\")\n",
    "    #         fname_list.append(fname)\n",
    "    #         return\n",
    "    # else:\n",
    "    #     try:\n",
    "    #         minioClient.fget_object(\n",
    "    #             bucket_name,\n",
    "    #             os.path.join(config[\"region\"], fname),\n",
    "    #             os.path.join(waveform_dir, fname),\n",
    "    #         )\n",
    "    #         print(\n",
    "    #             f\"{bucket_name}/{os.path.join(config['region'], fname)} download to {os.path.join(waveform_dir, fname)}\"\n",
    "    #         )\n",
    "    #         fname_list.append(fname)\n",
    "    #         return\n",
    "    #     except Exception as err:\n",
    "    #         print(err)\n",
    "\n",
    "    max_retry = 10\n",
    "    stream = obspy.Stream()\n",
    "    print(f\"{fname} download starts\")\n",
    "    num_sta = 0\n",
    "    for network in stations:\n",
    "        for station in network:\n",
    "            print(f\"********{network.code}.{station.code}********\")\n",
    "            retry = 0\n",
    "            while retry < max_retry:\n",
    "                try:\n",
    "                    tmp = client.get_waveforms(\n",
    "                        network.code,\n",
    "                        station.code,\n",
    "                        \"*\",\n",
    "                        config[\"channels\"],\n",
    "                        starttime,\n",
    "                        endtime,\n",
    "                    )\n",
    "                    #  for trace in tmp:\n",
    "                    #      if trace.stats.sampling_rate != 100:\n",
    "                    #          print(trace)\n",
    "                    #          trace = trace.interpolate(100, method=\"linear\")\n",
    "                    #      trace = trace.detrend(\"spline\", order=2, dspline=5*trace.stats.sampling_rate)\n",
    "                    #      stream.append(trace)\n",
    "                    stream += tmp\n",
    "                    num_sta += len(tmp)\n",
    "                    break\n",
    "                except Exception as err:\n",
    "                    print(\"Error {}.{}: {}\".format(network.code, station.code, err))\n",
    "                    message = \"No data available for request.\"\n",
    "                    if str(err)[: len(message)] == message:\n",
    "                        break\n",
    "                    retry += 1\n",
    "                    time.sleep(5)\n",
    "                    continue\n",
    "            if retry == max_retry:\n",
    "                print(f\"{fname}: MAX {max_retry} retries reached : {network.code}.{station.code}\")\n",
    "\n",
    "    if len(stream) > 0:\n",
    "        # stream = stream.merge(fill_value=0)\n",
    "        # stream = stream.trim(starttime, endtime, pad=True, fill_value=0)\n",
    "        stream.write(os.path.join(waveform_dir, fname))\n",
    "        print(f\"{fname} download succeeds\")\n",
    "        # if upload_minio:\n",
    "        #     minioClient.fput_object(bucket_name, os.path.join(config['region'], fname), os.path.join(waveform_dir, fname))\n",
    "        #     print(f\"{fname} upload to minio {os.path.join(config['region'], fname)}\")\n",
    "    else:\n",
    "        print(f\"{fname} empty data\")\n",
    "    lock.acquire()\n",
    "    fname_list.append(fname)\n",
    "    lock.release()\n",
    "\n",
    "threads = []\n",
    "MAX_THREADS = 2\n",
    "# MAX_THREADS = 1\n",
    "for ii, i in enumerate(idx):\n",
    "    t = threading.Thread(target=download, args=(i,))\n",
    "    t.start()\n",
    "    time.sleep(1)\n",
    "    threads.append(t)\n",
    "    if ii % MAX_THREADS == MAX_THREADS - 1:\n",
    "        for t in threads:\n",
    "            t.join()\n",
    "        threads = []\n",
    "for t in threads:\n",
    "    t.join()\n",
    "\n",
    "fname_csv = \"fname.csv\"\n",
    "with open(fname_csv, \"w\") as fp:\n",
    "    fp.write(\"\\n\".join(fname_list))\n",
    "\n",
    "# return waveform_dir\n"
   ]
  },
  {
   "cell_type": "code",
   "execution_count": 3,
   "id": "ae903380",
   "metadata": {
    "execution": {
     "iopub.execute_input": "2025-08-13T04:44:16.271746Z",
     "iopub.status.busy": "2025-08-13T04:44:16.271496Z",
     "iopub.status.idle": "2025-08-13T04:44:23.800996Z",
     "shell.execute_reply": "2025-08-13T04:44:23.800403Z"
    },
    "papermill": {
     "duration": 7.535626,
     "end_time": "2025-08-13T04:44:23.801882",
     "exception": false,
     "start_time": "2025-08-13T04:44:16.266256",
     "status": "completed"
    },
    "tags": []
   },
   "outputs": [
    {
     "name": "stdout",
     "output_type": "stream",
     "text": [
      "Waveforms directory contains 2 files\n"
     ]
    },
    {
     "name": "stdout",
     "output_type": "stream",
     "text": [
      "Created waveforms.tar.gz successfully\n",
      "Archive size: 100176175 bytes\n"
     ]
    }
   ],
   "source": [
    "import tarfile\n",
    "import os\n",
    "\n",
    "if os.path.exists('waveforms'):\n",
    "    print(f\"Waveforms directory contains {len(os.listdir('waveforms'))} files\")\n",
    "    \n",
    "    with tarfile.open('waveforms.tar.gz', 'w:gz') as tar:\n",
    "        tar.add('waveforms', arcname='waveforms')\n",
    "    \n",
    "    print(\"Created waveforms.tar.gz successfully\")\n",
    "    print(f\"Archive size: {os.path.getsize('waveforms.tar.gz')} bytes\")\n",
    "else:\n",
    "    print(\"ERROR: waveforms directory not found!\")"
   ]
  },
  {
   "cell_type": "code",
   "execution_count": 4,
   "id": "4bb0b5fb",
   "metadata": {
    "execution": {
     "iopub.execute_input": "2025-08-13T04:44:23.806620Z",
     "iopub.status.busy": "2025-08-13T04:44:23.806110Z",
     "iopub.status.idle": "2025-08-13T04:44:23.809386Z",
     "shell.execute_reply": "2025-08-13T04:44:23.808849Z"
    },
    "papermill": {
     "duration": 0.006296,
     "end_time": "2025-08-13T04:44:23.810198",
     "exception": false,
     "start_time": "2025-08-13T04:44:23.803902",
     "status": "completed"
    },
    "tags": []
   },
   "outputs": [],
   "source": [
    "# Kubeflow Pipelines UI用のメタデータ出力\n",
    "if os.environ.get('ELYRA_RUNTIME_ENV') == 'kfp':\n",
    "    # For information about Elyra environment variables refer to\n",
    "    # https://elyra.readthedocs.io/en/stable/user_guide/best-practices-file-based-nodes.html#proprietary-environment-variables\n",
    "\n",
    "    metadata = {\n",
    "        'outputs': [\n",
    "            {\n",
    "                'storage': 'inline',\n",
    "                'source': f'# Download Waveform Data Complete\\n',\n",
    "                'type': 'markdown',\n",
    "            }\n",
    "        ]\n",
    "    }\n",
    "\n",
    "    with open('mlpipeline-ui-metadata.json', 'w') as f:\n",
    "        json.dump(metadata, f)"
   ]
  }
 ],
 "metadata": {
  "kernelspec": {
   "display_name": "Python 3 (ipykernel)",
   "language": "python",
   "name": "python3"
  },
  "language_info": {
   "codemirror_mode": {
    "name": "ipython",
    "version": 3
   },
   "file_extension": ".py",
   "mimetype": "text/x-python",
   "name": "python",
   "nbconvert_exporter": "python",
   "pygments_lexer": "ipython3",
   "version": "3.10.13"
  },
  "papermill": {
   "default_parameters": {},
   "duration": 57.930425,
   "end_time": "2025-08-13T04:44:24.026707",
   "environment_variables": {},
   "exception": null,
   "input_path": "/home/okadak/work/QuakeFlow/kubeflow/for_elyra/notebooks/Download_Waveform_data.ipynb",
   "output_path": "/home/okadak/work/QuakeFlow/kubeflow/for_elyra/notebooks/Download_Waveform_data.ipynb",
   "parameters": {},
   "start_time": "2025-08-13T04:43:26.096282",
   "version": "2.6.0"
  }
 },
 "nbformat": 4,
 "nbformat_minor": 5
}