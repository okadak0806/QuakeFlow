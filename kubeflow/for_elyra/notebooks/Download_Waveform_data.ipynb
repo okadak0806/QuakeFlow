{
 "cells": [
  {
   "cell_type": "code",
   "execution_count": 1,
   "id": "5d1febb3",
   "metadata": {
    "execution": {
     "iopub.execute_input": "2025-06-03T02:35:04.634517Z",
     "iopub.status.busy": "2025-06-03T02:35:04.634054Z",
     "iopub.status.idle": "2025-06-03T02:35:04.883638Z",
     "shell.execute_reply": "2025-06-03T02:35:04.882967Z"
    },
    "papermill": {
     "duration": 0.253552,
     "end_time": "2025-06-03T02:35:04.885271",
     "exception": false,
     "start_time": "2025-06-03T02:35:04.631719",
     "status": "completed"
    },
    "tags": []
   },
   "outputs": [],
   "source": [
    "\n",
    "import json\n",
    "import os\n",
    "import pickle\n",
    "import random\n",
    "import threading\n",
    "import time\n",
    "\n",
    "import obspy\n",
    "from obspy.clients.fdsn import Client\n",
    "\n"
   ]
  },
  {
   "cell_type": "code",
   "execution_count": 2,
   "id": "6982d046",
   "metadata": {
    "execution": {
     "iopub.execute_input": "2025-06-03T02:35:04.888636Z",
     "iopub.status.busy": "2025-06-03T02:35:04.888101Z",
     "iopub.status.idle": "2025-06-03T02:37:19.590446Z",
     "shell.execute_reply": "2025-06-03T02:37:19.589768Z"
    },
    "papermill": {
     "duration": 134.705315,
     "end_time": "2025-06-03T02:37:19.591754",
     "exception": false,
     "start_time": "2025-06-03T02:35:04.886439",
     "status": "completed"
    },
    "tags": []
   },
   "outputs": [
    {
     "name": "stdout",
     "output_type": "stream",
     "text": [
      "2019-07-04T17:00:00.mseed download starts\n",
      "********CI.CCC********\n"
     ]
    },
    {
     "name": "stdout",
     "output_type": "stream",
     "text": [
      "2019-07-04T18:00:00.mseed download starts\n",
      "********CI.CCC********\n"
     ]
    },
    {
     "name": "stdout",
     "output_type": "stream",
     "text": [
      "Error CI.CCC: Service responds: Internal server error\n",
      "HTTP Status code: 500\n",
      "Detailed response of server:\n",
      "\n",
      "500\n",
      "Error 500: STP clients exceeded. Please try again later OR download data from the SCEDC public data set hosted on the cloud (AWS). For details, please see https://scedc.caltech.edu/cloud/ \n",
      "More Details:\n",
      "handler exited, code: 1  reason: Internal Server Error\n",
      "Request:\n",
      "http://service.scedc.caltech.edu/fdsnws/dataselect/1/query?starttime=2019-07-04T18%3A00%3A00.000000&endtime=2019-07-04T19%3A00%3A00.000000&network=CI&station=CCC&location=%2A&channel=HH%2A%2CBH%2A%2CEH%2A%2CHN%2A\n",
      "Request Submitted:\n",
      "2025/06/03 02:35:06 UTC\n",
      "Service version:\n",
      "Service: fdsnws-dataselect  version: 1.1.0\n"
     ]
    },
    {
     "name": "stdout",
     "output_type": "stream",
     "text": [
      "********CI.CLC********\n"
     ]
    },
    {
     "name": "stdout",
     "output_type": "stream",
     "text": [
      "********CI.DTP********\n"
     ]
    },
    {
     "name": "stdout",
     "output_type": "stream",
     "text": [
      "Error CI.DTP: Service responds: Internal server error\n",
      "HTTP Status code: 500\n",
      "Detailed response of server:\n",
      "\n",
      "500\n",
      "Error 500: STP clients exceeded. Please try again later OR download data from the SCEDC public data set hosted on the cloud (AWS). For details, please see https://scedc.caltech.edu/cloud/ \n",
      "More Details:\n",
      "handler exited, code: 1  reason: Internal Server Error\n",
      "Request:\n",
      "http://service.scedc.caltech.edu/fdsnws/dataselect/1/query?starttime=2019-07-04T17%3A00%3A00.000000&endtime=2019-07-04T18%3A00%3A00.000000&network=CI&station=DTP&location=%2A&channel=HH%2A%2CBH%2A%2CEH%2A%2CHN%2A\n",
      "Request Submitted:\n",
      "2025/06/03 02:35:13 UTC\n",
      "Service version:\n",
      "Service: fdsnws-dataselect  version: 1.1.0\n"
     ]
    },
    {
     "name": "stdout",
     "output_type": "stream",
     "text": [
      "********CI.CLC********\n"
     ]
    },
    {
     "name": "stdout",
     "output_type": "stream",
     "text": [
      "Error CI.CLC: Service responds: Internal server error\n",
      "HTTP Status code: 500\n",
      "Detailed response of server:\n",
      "\n",
      "500\n",
      "Error 500: STP clients exceeded. Please try again later OR download data from the SCEDC public data set hosted on the cloud (AWS). For details, please see https://scedc.caltech.edu/cloud/ \n",
      "More Details:\n",
      "handler exited, code: 1  reason: Internal Server Error\n",
      "Request:\n",
      "http://service.scedc.caltech.edu/fdsnws/dataselect/1/query?starttime=2019-07-04T18%3A00%3A00.000000&endtime=2019-07-04T19%3A00%3A00.000000&network=CI&station=CLC&location=%2A&channel=HH%2A%2CBH%2A%2CEH%2A%2CHN%2A\n",
      "Request Submitted:\n",
      "2025/06/03 02:35:15 UTC\n",
      "Service version:\n",
      "Service: fdsnws-dataselect  version: 1.1.0\n"
     ]
    },
    {
     "name": "stdout",
     "output_type": "stream",
     "text": [
      "Error CI.DTP: Service responds: Internal server error\n",
      "HTTP Status code: 500\n",
      "Detailed response of server:\n",
      "\n",
      "500\n",
      "Error 500: STP clients exceeded. Please try again later OR download data from the SCEDC public data set hosted on the cloud (AWS). For details, please see https://scedc.caltech.edu/cloud/ \n",
      "More Details:\n",
      "handler exited, code: 1  reason: Internal Server Error\n",
      "Request:\n",
      "http://service.scedc.caltech.edu/fdsnws/dataselect/1/query?starttime=2019-07-04T17%3A00%3A00.000000&endtime=2019-07-04T18%3A00%3A00.000000&network=CI&station=DTP&location=%2A&channel=HH%2A%2CBH%2A%2CEH%2A%2CHN%2A\n",
      "Request Submitted:\n",
      "2025/06/03 02:35:18 UTC\n",
      "Service version:\n",
      "Service: fdsnws-dataselect  version: 1.1.0\n"
     ]
    },
    {
     "name": "stdout",
     "output_type": "stream",
     "text": [
      "Error CI.DTP: Service responds: Internal server error\n",
      "HTTP Status code: 500\n",
      "Detailed response of server:\n",
      "\n",
      "500\n",
      "Error 500: STP clients exceeded. Please try again later OR download data from the SCEDC public data set hosted on the cloud (AWS). For details, please see https://scedc.caltech.edu/cloud/ \n",
      "More Details:\n",
      "handler exited, code: 1  reason: Internal Server Error\n",
      "Request:\n",
      "http://service.scedc.caltech.edu/fdsnws/dataselect/1/query?starttime=2019-07-04T17%3A00%3A00.000000&endtime=2019-07-04T18%3A00%3A00.000000&network=CI&station=DTP&location=%2A&channel=HH%2A%2CBH%2A%2CEH%2A%2CHN%2A\n",
      "Request Submitted:\n",
      "2025/06/03 02:35:23 UTC\n",
      "Service version:\n",
      "Service: fdsnws-dataselect  version: 1.1.0\n"
     ]
    },
    {
     "name": "stdout",
     "output_type": "stream",
     "text": [
      "********CI.DTP********\n"
     ]
    },
    {
     "name": "stdout",
     "output_type": "stream",
     "text": [
      "Error CI.DTP: Service responds: Internal server error\n",
      "HTTP Status code: 500\n",
      "Detailed response of server:\n",
      "\n",
      "500\n",
      "Error 500: STP clients exceeded. Please try again later OR download data from the SCEDC public data set hosted on the cloud (AWS). For details, please see https://scedc.caltech.edu/cloud/ \n",
      "More Details:\n",
      "handler exited, code: 1  reason: Internal Server Error\n",
      "Request:\n",
      "http://service.scedc.caltech.edu/fdsnws/dataselect/1/query?starttime=2019-07-04T18%3A00%3A00.000000&endtime=2019-07-04T19%3A00%3A00.000000&network=CI&station=DTP&location=%2A&channel=HH%2A%2CBH%2A%2CEH%2A%2CHN%2A\n",
      "Request Submitted:\n",
      "2025/06/03 02:35:24 UTC\n",
      "Service version:\n",
      "Service: fdsnws-dataselect  version: 1.1.0\n"
     ]
    },
    {
     "name": "stdout",
     "output_type": "stream",
     "text": [
      "Error CI.DTP: Service responds: Internal server error\n",
      "HTTP Status code: 500\n",
      "Detailed response of server:\n",
      "\n",
      "500\n",
      "Error 500: STP clients exceeded. Please try again later OR download data from the SCEDC public data set hosted on the cloud (AWS). For details, please see https://scedc.caltech.edu/cloud/ \n",
      "More Details:\n",
      "handler exited, code: 1  reason: Internal Server Error\n",
      "Request:\n",
      "http://service.scedc.caltech.edu/fdsnws/dataselect/1/query?starttime=2019-07-04T17%3A00%3A00.000000&endtime=2019-07-04T18%3A00%3A00.000000&network=CI&station=DTP&location=%2A&channel=HH%2A%2CBH%2A%2CEH%2A%2CHN%2A\n",
      "Request Submitted:\n",
      "2025/06/03 02:35:29 UTC\n",
      "Service version:\n",
      "Service: fdsnws-dataselect  version: 1.1.0\n"
     ]
    },
    {
     "name": "stdout",
     "output_type": "stream",
     "text": [
      "********CI.JRC2********\n"
     ]
    },
    {
     "name": "stdout",
     "output_type": "stream",
     "text": [
      "********CI.LRL********\n"
     ]
    },
    {
     "name": "stdout",
     "output_type": "stream",
     "text": [
      "********CI.JRC2********\n"
     ]
    },
    {
     "name": "stdout",
     "output_type": "stream",
     "text": [
      "Error CI.JRC2: Service responds: Internal server error\n",
      "HTTP Status code: 500\n",
      "Detailed response of server:\n",
      "\n",
      "500\n",
      "Error 500: STP clients exceeded. Please try again later OR download data from the SCEDC public data set hosted on the cloud (AWS). For details, please see https://scedc.caltech.edu/cloud/ \n",
      "More Details:\n",
      "handler exited, code: 1  reason: Internal Server Error\n",
      "Request:\n",
      "http://service.scedc.caltech.edu/fdsnws/dataselect/1/query?starttime=2019-07-04T17%3A00%3A00.000000&endtime=2019-07-04T18%3A00%3A00.000000&network=CI&station=JRC2&location=%2A&channel=HH%2A%2CBH%2A%2CEH%2A%2CHN%2A\n",
      "Request Submitted:\n",
      "2025/06/03 02:35:37 UTC\n",
      "Service version:\n",
      "Service: fdsnws-dataselect  version: 1.1.0\n"
     ]
    },
    {
     "name": "stdout",
     "output_type": "stream",
     "text": [
      "********CI.MPM********\n"
     ]
    },
    {
     "name": "stdout",
     "output_type": "stream",
     "text": [
      "Error CI.JRC2: Service responds: Internal server error\n",
      "HTTP Status code: 500\n",
      "Detailed response of server:\n",
      "\n",
      "500\n",
      "Error 500: STP clients exceeded. Please try again later OR download data from the SCEDC public data set hosted on the cloud (AWS). For details, please see https://scedc.caltech.edu/cloud/ \n",
      "More Details:\n",
      "handler exited, code: 1  reason: Internal Server Error\n",
      "Request:\n",
      "http://service.scedc.caltech.edu/fdsnws/dataselect/1/query?starttime=2019-07-04T17%3A00%3A00.000000&endtime=2019-07-04T18%3A00%3A00.000000&network=CI&station=JRC2&location=%2A&channel=HH%2A%2CBH%2A%2CEH%2A%2CHN%2A\n",
      "Request Submitted:\n",
      "2025/06/03 02:35:43 UTC\n",
      "Service version:\n",
      "Service: fdsnws-dataselect  version: 1.1.0\n"
     ]
    },
    {
     "name": "stdout",
     "output_type": "stream",
     "text": [
      "********CI.Q0072********\n"
     ]
    },
    {
     "name": "stdout",
     "output_type": "stream",
     "text": [
      "Error CI.Q0072: No data available for request.\n",
      "HTTP Status code: 204\n",
      "Detailed response of server:\n",
      "\n",
      "\n",
      "********CI.SLA********\n"
     ]
    },
    {
     "name": "stdout",
     "output_type": "stream",
     "text": [
      "********CI.SRT********\n"
     ]
    },
    {
     "name": "stdout",
     "output_type": "stream",
     "text": [
      "********CI.LRL********\n"
     ]
    },
    {
     "name": "stdout",
     "output_type": "stream",
     "text": [
      "Error CI.LRL: Service responds: Internal server error\n",
      "HTTP Status code: 500\n",
      "Detailed response of server:\n",
      "\n",
      "500\n",
      "Error 500: STP clients exceeded. Please try again later OR download data from the SCEDC public data set hosted on the cloud (AWS). For details, please see https://scedc.caltech.edu/cloud/ \n",
      "More Details:\n",
      "handler exited, code: 1  reason: Internal Server Error\n",
      "Request:\n",
      "http://service.scedc.caltech.edu/fdsnws/dataselect/1/query?starttime=2019-07-04T17%3A00%3A00.000000&endtime=2019-07-04T18%3A00%3A00.000000&network=CI&station=LRL&location=%2A&channel=HH%2A%2CBH%2A%2CEH%2A%2CHN%2A\n",
      "Request Submitted:\n",
      "2025/06/03 02:35:51 UTC\n",
      "Service version:\n",
      "Service: fdsnws-dataselect  version: 1.1.0\n"
     ]
    },
    {
     "name": "stdout",
     "output_type": "stream",
     "text": [
      "********CI.TOW2********\n"
     ]
    },
    {
     "name": "stdout",
     "output_type": "stream",
     "text": [
      "Error CI.TOW2: Service responds: Internal server error\n",
      "HTTP Status code: 500\n",
      "Detailed response of server:\n",
      "\n",
      "500\n",
      "Error 500: STP clients exceeded. Please try again later OR download data from the SCEDC public data set hosted on the cloud (AWS). For details, please see https://scedc.caltech.edu/cloud/ \n",
      "More Details:\n",
      "handler exited, code: 1  reason: Internal Server Error\n",
      "Request:\n",
      "http://service.scedc.caltech.edu/fdsnws/dataselect/1/query?starttime=2019-07-04T18%3A00%3A00.000000&endtime=2019-07-04T19%3A00%3A00.000000&network=CI&station=TOW2&location=%2A&channel=HH%2A%2CBH%2A%2CEH%2A%2CHN%2A\n",
      "Request Submitted:\n",
      "2025/06/03 02:35:52 UTC\n",
      "Service version:\n",
      "Service: fdsnws-dataselect  version: 1.1.0\n"
     ]
    },
    {
     "name": "stdout",
     "output_type": "stream",
     "text": [
      "Error CI.TOW2: Service responds: Internal server error\n",
      "HTTP Status code: 500\n",
      "Detailed response of server:\n",
      "\n",
      "500\n",
      "Error 500: STP clients exceeded. Please try again later OR download data from the SCEDC public data set hosted on the cloud (AWS). For details, please see https://scedc.caltech.edu/cloud/ \n",
      "More Details:\n",
      "handler exited, code: 1  reason: Internal Server Error\n",
      "Request:\n",
      "http://service.scedc.caltech.edu/fdsnws/dataselect/1/query?starttime=2019-07-04T18%3A00%3A00.000000&endtime=2019-07-04T19%3A00%3A00.000000&network=CI&station=TOW2&location=%2A&channel=HH%2A%2CBH%2A%2CEH%2A%2CHN%2A\n",
      "Request Submitted:\n",
      "2025/06/03 02:35:58 UTC\n",
      "Service version:\n",
      "Service: fdsnws-dataselect  version: 1.1.0\n"
     ]
    },
    {
     "name": "stdout",
     "output_type": "stream",
     "text": [
      "********CI.MPM********\n"
     ]
    },
    {
     "name": "stdout",
     "output_type": "stream",
     "text": [
      "********CI.Q0072********\n"
     ]
    },
    {
     "name": "stdout",
     "output_type": "stream",
     "text": [
      "Error CI.Q0072: Service responds: Internal server error\n",
      "HTTP Status code: 500\n",
      "Detailed response of server:\n",
      "\n",
      "500\n",
      "Error 500: STP clients exceeded. Please try again later OR download data from the SCEDC public data set hosted on the cloud (AWS). For details, please see https://scedc.caltech.edu/cloud/ \n",
      "More Details:\n",
      "handler exited, code: 1  reason: Internal Server Error\n",
      "Request:\n",
      "http://service.scedc.caltech.edu/fdsnws/dataselect/1/query?starttime=2019-07-04T17%3A00%3A00.000000&endtime=2019-07-04T18%3A00%3A00.000000&network=CI&station=Q0072&location=%2A&channel=HH%2A%2CBH%2A%2CEH%2A%2CHN%2A\n",
      "Request Submitted:\n",
      "2025/06/03 02:36:04 UTC\n",
      "Service version:\n",
      "Service: fdsnws-dataselect  version: 1.1.0\n"
     ]
    },
    {
     "name": "stdout",
     "output_type": "stream",
     "text": [
      "********CI.WBM********\n"
     ]
    },
    {
     "name": "stdout",
     "output_type": "stream",
     "text": [
      "Error CI.Q0072: Service responds: Internal server error\n",
      "HTTP Status code: 500\n",
      "Detailed response of server:\n",
      "\n",
      "500\n",
      "Error 500: STP clients exceeded. Please try again later OR download data from the SCEDC public data set hosted on the cloud (AWS). For details, please see https://scedc.caltech.edu/cloud/ \n",
      "More Details:\n",
      "handler exited, code: 1  reason: Internal Server Error\n",
      "Request:\n",
      "http://service.scedc.caltech.edu/fdsnws/dataselect/1/query?starttime=2019-07-04T17%3A00%3A00.000000&endtime=2019-07-04T18%3A00%3A00.000000&network=CI&station=Q0072&location=%2A&channel=HH%2A%2CBH%2A%2CEH%2A%2CHN%2A\n",
      "Request Submitted:\n",
      "2025/06/03 02:36:09 UTC\n",
      "Service version:\n",
      "Service: fdsnws-dataselect  version: 1.1.0\n"
     ]
    },
    {
     "name": "stdout",
     "output_type": "stream",
     "text": [
      "********CI.WCS2********\n"
     ]
    },
    {
     "name": "stdout",
     "output_type": "stream",
     "text": [
      "********CI.WMF********\n"
     ]
    },
    {
     "name": "stdout",
     "output_type": "stream",
     "text": [
      "Error CI.Q0072: No data available for request.\n",
      "HTTP Status code: 204\n",
      "Detailed response of server:\n",
      "\n",
      "\n",
      "********CI.SLA********\n"
     ]
    },
    {
     "name": "stdout",
     "output_type": "stream",
     "text": [
      "********CI.WNM********\n"
     ]
    },
    {
     "name": "stdout",
     "output_type": "stream",
     "text": [
      "Error CI.WNM: Service responds: Internal server error\n",
      "HTTP Status code: 500\n",
      "Detailed response of server:\n",
      "\n",
      "500\n",
      "Error 500: STP clients exceeded. Please try again later OR download data from the SCEDC public data set hosted on the cloud (AWS). For details, please see https://scedc.caltech.edu/cloud/ \n",
      "More Details:\n",
      "handler exited, code: 1  reason: Internal Server Error\n",
      "Request:\n",
      "http://service.scedc.caltech.edu/fdsnws/dataselect/1/query?starttime=2019-07-04T18%3A00%3A00.000000&endtime=2019-07-04T19%3A00%3A00.000000&network=CI&station=WNM&location=%2A&channel=HH%2A%2CBH%2A%2CEH%2A%2CHN%2A\n",
      "Request Submitted:\n",
      "2025/06/03 02:36:18 UTC\n",
      "Service version:\n",
      "Service: fdsnws-dataselect  version: 1.1.0\n"
     ]
    },
    {
     "name": "stdout",
     "output_type": "stream",
     "text": [
      "********CI.SRT********\n"
     ]
    },
    {
     "name": "stdout",
     "output_type": "stream",
     "text": [
      "********CI.TOW2********\n"
     ]
    },
    {
     "name": "stdout",
     "output_type": "stream",
     "text": [
      "********CI.WBM********\n"
     ]
    },
    {
     "name": "stdout",
     "output_type": "stream",
     "text": [
      "********CI.WRC2********\n",
      "Error CI.WBM: Service responds: Internal server error\n",
      "HTTP Status code: 500\n",
      "Detailed response of server:\n",
      "\n",
      "500\n",
      "Error 500: STP clients exceeded. Please try again later OR download data from the SCEDC public data set hosted on the cloud (AWS). For details, please see https://scedc.caltech.edu/cloud/ \n",
      "More Details:\n",
      "handler exited, code: 1  reason: Internal Server Error\n",
      "Request:\n",
      "http://service.scedc.caltech.edu/fdsnws/dataselect/1/query?starttime=2019-07-04T17%3A00%3A00.000000&endtime=2019-07-04T18%3A00%3A00.000000&network=CI&station=WBM&location=%2A&channel=HH%2A%2CBH%2A%2CEH%2A%2CHN%2A\n",
      "Request Submitted:\n",
      "2025/06/03 02:36:26 UTC\n",
      "Service version:\n",
      "Service: fdsnws-dataselect  version: 1.1.0\n"
     ]
    },
    {
     "name": "stdout",
     "output_type": "stream",
     "text": [
      "********CI.WRV2********\n"
     ]
    },
    {
     "name": "stdout",
     "output_type": "stream",
     "text": [
      "Error CI.WRV2: Service responds: Internal server error\n",
      "HTTP Status code: 500\n",
      "Detailed response of server:\n",
      "\n",
      "500\n",
      "Error 500: STP clients exceeded. Please try again later OR download data from the SCEDC public data set hosted on the cloud (AWS). For details, please see https://scedc.caltech.edu/cloud/ \n",
      "More Details:\n",
      "handler exited, code: 1  reason: Internal Server Error\n",
      "Request:\n",
      "http://service.scedc.caltech.edu/fdsnws/dataselect/1/query?starttime=2019-07-04T18%3A00%3A00.000000&endtime=2019-07-04T19%3A00%3A00.000000&network=CI&station=WRV2&location=%2A&channel=HH%2A%2CBH%2A%2CEH%2A%2CHN%2A\n",
      "Request Submitted:\n",
      "2025/06/03 02:36:30 UTC\n",
      "Service version:\n",
      "Service: fdsnws-dataselect  version: 1.1.0\n"
     ]
    },
    {
     "name": "stdout",
     "output_type": "stream",
     "text": [
      "Error CI.WBM: Service responds: Internal server error\n",
      "HTTP Status code: 500\n",
      "Detailed response of server:\n",
      "\n",
      "500\n",
      "Error 500: STP clients exceeded. Please try again later OR download data from the SCEDC public data set hosted on the cloud (AWS). For details, please see https://scedc.caltech.edu/cloud/ \n",
      "More Details:\n",
      "handler exited, code: 1  reason: Internal Server Error\n",
      "Request:\n",
      "http://service.scedc.caltech.edu/fdsnws/dataselect/1/query?starttime=2019-07-04T17%3A00%3A00.000000&endtime=2019-07-04T18%3A00%3A00.000000&network=CI&station=WBM&location=%2A&channel=HH%2A%2CBH%2A%2CEH%2A%2CHN%2A\n",
      "Request Submitted:\n",
      "2025/06/03 02:36:31 UTC\n",
      "Service version:\n",
      "Service: fdsnws-dataselect  version: 1.1.0\n"
     ]
    },
    {
     "name": "stdout",
     "output_type": "stream",
     "text": [
      "Error CI.WRV2: Service responds: Internal server error\n",
      "HTTP Status code: 500\n",
      "Detailed response of server:\n",
      "\n",
      "500\n",
      "Error 500: STP clients exceeded. Please try again later OR download data from the SCEDC public data set hosted on the cloud (AWS). For details, please see https://scedc.caltech.edu/cloud/ \n",
      "More Details:\n",
      "handler exited, code: 1  reason: Internal Server Error\n",
      "Request:\n",
      "http://service.scedc.caltech.edu/fdsnws/dataselect/1/query?starttime=2019-07-04T18%3A00%3A00.000000&endtime=2019-07-04T19%3A00%3A00.000000&network=CI&station=WRV2&location=%2A&channel=HH%2A%2CBH%2A%2CEH%2A%2CHN%2A\n",
      "Request Submitted:\n",
      "2025/06/03 02:36:35 UTC\n",
      "Service version:\n",
      "Service: fdsnws-dataselect  version: 1.1.0\n"
     ]
    },
    {
     "name": "stdout",
     "output_type": "stream",
     "text": [
      "********CI.WCS2********\n"
     ]
    },
    {
     "name": "stdout",
     "output_type": "stream",
     "text": [
      "********CI.WVP2********\n"
     ]
    },
    {
     "name": "stdout",
     "output_type": "stream",
     "text": [
      "********CI.WMF********\n"
     ]
    },
    {
     "name": "stdout",
     "output_type": "stream",
     "text": [
      "2019-07-04T18:00:00.mseed download succeeds\n"
     ]
    },
    {
     "name": "stdout",
     "output_type": "stream",
     "text": [
      "********CI.WNM********\n"
     ]
    },
    {
     "name": "stdout",
     "output_type": "stream",
     "text": [
      "Error CI.WNM: Service responds: Internal server error\n",
      "HTTP Status code: 500\n",
      "Detailed response of server:\n",
      "\n",
      "500\n",
      "Error 500: STP clients exceeded. Please try again later OR download data from the SCEDC public data set hosted on the cloud (AWS). For details, please see https://scedc.caltech.edu/cloud/ \n",
      "More Details:\n",
      "handler exited, code: 1  reason: Internal Server Error\n",
      "Request:\n",
      "http://service.scedc.caltech.edu/fdsnws/dataselect/1/query?starttime=2019-07-04T17%3A00%3A00.000000&endtime=2019-07-04T18%3A00%3A00.000000&network=CI&station=WNM&location=%2A&channel=HH%2A%2CBH%2A%2CEH%2A%2CHN%2A\n",
      "Request Submitted:\n",
      "2025/06/03 02:36:47 UTC\n",
      "Service version:\n",
      "Service: fdsnws-dataselect  version: 1.1.0\n"
     ]
    },
    {
     "name": "stdout",
     "output_type": "stream",
     "text": [
      "********CI.WRC2********\n"
     ]
    },
    {
     "name": "stdout",
     "output_type": "stream",
     "text": [
      "Error CI.WRC2: Service responds: Internal server error\n",
      "HTTP Status code: 500\n",
      "Detailed response of server:\n",
      "\n",
      "500\n",
      "Error 500: STP clients exceeded. Please try again later OR download data from the SCEDC public data set hosted on the cloud (AWS). For details, please see https://scedc.caltech.edu/cloud/ \n",
      "More Details:\n",
      "handler exited, code: 1  reason: Internal Server Error\n",
      "Request:\n",
      "http://service.scedc.caltech.edu/fdsnws/dataselect/1/query?starttime=2019-07-04T17%3A00%3A00.000000&endtime=2019-07-04T18%3A00%3A00.000000&network=CI&station=WRC2&location=%2A&channel=HH%2A%2CBH%2A%2CEH%2A%2CHN%2A\n",
      "Request Submitted:\n",
      "2025/06/03 02:36:55 UTC\n",
      "Service version:\n",
      "Service: fdsnws-dataselect  version: 1.1.0\n"
     ]
    },
    {
     "name": "stdout",
     "output_type": "stream",
     "text": [
      "Error CI.WRC2: Service responds: Internal server error\n",
      "HTTP Status code: 500\n",
      "Detailed response of server:\n",
      "\n",
      "500\n",
      "Error 500: STP clients exceeded. Please try again later OR download data from the SCEDC public data set hosted on the cloud (AWS). For details, please see https://scedc.caltech.edu/cloud/ \n",
      "More Details:\n",
      "handler exited, code: 1  reason: Internal Server Error\n",
      "Request:\n",
      "http://service.scedc.caltech.edu/fdsnws/dataselect/1/query?starttime=2019-07-04T17%3A00%3A00.000000&endtime=2019-07-04T18%3A00%3A00.000000&network=CI&station=WRC2&location=%2A&channel=HH%2A%2CBH%2A%2CEH%2A%2CHN%2A\n",
      "Request Submitted:\n",
      "2025/06/03 02:37:00 UTC\n",
      "Service version:\n",
      "Service: fdsnws-dataselect  version: 1.1.0\n"
     ]
    },
    {
     "name": "stdout",
     "output_type": "stream",
     "text": [
      "********CI.WRV2********\n"
     ]
    },
    {
     "name": "stdout",
     "output_type": "stream",
     "text": [
      "********CI.WVP2********\n"
     ]
    },
    {
     "name": "stdout",
     "output_type": "stream",
     "text": [
      "Error CI.WVP2: Service responds: Internal server error\n",
      "HTTP Status code: 500\n",
      "Detailed response of server:\n",
      "\n",
      "500\n",
      "Error 500: STP clients exceeded. Please try again later OR download data from the SCEDC public data set hosted on the cloud (AWS). For details, please see https://scedc.caltech.edu/cloud/ \n",
      "More Details:\n",
      "handler exited, code: 1  reason: Internal Server Error\n",
      "Request:\n",
      "http://service.scedc.caltech.edu/fdsnws/dataselect/1/query?starttime=2019-07-04T17%3A00%3A00.000000&endtime=2019-07-04T18%3A00%3A00.000000&network=CI&station=WVP2&location=%2A&channel=HH%2A%2CBH%2A%2CEH%2A%2CHN%2A\n",
      "Request Submitted:\n",
      "2025/06/03 02:37:11 UTC\n",
      "Service version:\n",
      "Service: fdsnws-dataselect  version: 1.1.0\n"
     ]
    },
    {
     "name": "stdout",
     "output_type": "stream",
     "text": [
      "2019-07-04T17:00:00.mseed download succeeds\n"
     ]
    }
   ],
   "source": [
    "\n",
    "lock = threading.Lock()\n",
    "node_i = 0\n",
    "# upload_minio = True\n",
    "# try:\n",
    "#     from minio import Minio\n",
    "\n",
    "#     minioClient = Minio(s3_url, access_key='minio', secret_key='minio123', secure=secure)\n",
    "#     if not minioClient.bucket_exists(bucket_name):\n",
    "#         minioClient.make_bucket(bucket_name)\n",
    "#     upload_minio = True\n",
    "# except Exception as err:\n",
    "#     # print(f\"ERROR: can not access minio service! \\n{err}\")\n",
    "#     pass\n",
    "\n",
    "with open(\"config/index.json\", \"r\") as fp:\n",
    "    index = json.load(fp)\n",
    "idx = index[node_i]\n",
    "with open(\"config/config.json\", \"r\") as fp:\n",
    "    config = json.load(fp)\n",
    "with open(\"config/datetime.json\", \"r\") as fp:\n",
    "    tmp = json.load(fp)\n",
    "    starttimes = tmp[\"starttimes\"]\n",
    "    interval = tmp[\"interval\"]\n",
    "with open(\"stations/stations.pkl\", \"rb\") as fp:\n",
    "    stations = pickle.load(fp)\n",
    "\n",
    "#waveform_dir = os.path.join(data_path, config[\"region\"], \"waveforms\")\n",
    "waveform_dir = os.path.join(\"waveforms\")\n",
    "if not os.path.exists(waveform_dir):\n",
    "    os.makedirs(waveform_dir)\n",
    "\n",
    "####### Download data ########\n",
    "client = Client(config[\"client\"])\n",
    "fname_list = [\"fname\"]\n",
    "\n",
    "def download(i):\n",
    "    #     for i in idx:\n",
    "    starttime = obspy.UTCDateTime(starttimes[i])\n",
    "    endtime = starttime + interval\n",
    "    fname = \"{}.mseed\".format(starttime.datetime.strftime(\"%Y-%m-%dT%H:%M:%S\"))\n",
    "    # if not upload_minio:\n",
    "    #     if os.path.exists(os.path.join(waveform_dir, fname)):\n",
    "    #         print(f\"{fname} exists\")\n",
    "    #         fname_list.append(fname)\n",
    "    #         return\n",
    "    # else:\n",
    "    #     try:\n",
    "    #         minioClient.fget_object(\n",
    "    #             bucket_name,\n",
    "    #             os.path.join(config[\"region\"], fname),\n",
    "    #             os.path.join(waveform_dir, fname),\n",
    "    #         )\n",
    "    #         print(\n",
    "    #             f\"{bucket_name}/{os.path.join(config['region'], fname)} download to {os.path.join(waveform_dir, fname)}\"\n",
    "    #         )\n",
    "    #         fname_list.append(fname)\n",
    "    #         return\n",
    "    #     except Exception as err:\n",
    "    #         print(err)\n",
    "\n",
    "    max_retry = 10\n",
    "    stream = obspy.Stream()\n",
    "    print(f\"{fname} download starts\")\n",
    "    num_sta = 0\n",
    "    for network in stations:\n",
    "        for station in network:\n",
    "            print(f\"********{network.code}.{station.code}********\")\n",
    "            retry = 0\n",
    "            while retry < max_retry:\n",
    "                try:\n",
    "                    tmp = client.get_waveforms(\n",
    "                        network.code,\n",
    "                        station.code,\n",
    "                        \"*\",\n",
    "                        config[\"channels\"],\n",
    "                        starttime,\n",
    "                        endtime,\n",
    "                    )\n",
    "                    #  for trace in tmp:\n",
    "                    #      if trace.stats.sampling_rate != 100:\n",
    "                    #          print(trace)\n",
    "                    #          trace = trace.interpolate(100, method=\"linear\")\n",
    "                    #      trace = trace.detrend(\"spline\", order=2, dspline=5*trace.stats.sampling_rate)\n",
    "                    #      stream.append(trace)\n",
    "                    stream += tmp\n",
    "                    num_sta += len(tmp)\n",
    "                    break\n",
    "                except Exception as err:\n",
    "                    print(\"Error {}.{}: {}\".format(network.code, station.code, err))\n",
    "                    message = \"No data available for request.\"\n",
    "                    if str(err)[: len(message)] == message:\n",
    "                        break\n",
    "                    retry += 1\n",
    "                    time.sleep(5)\n",
    "                    continue\n",
    "            if retry == max_retry:\n",
    "                print(f\"{fname}: MAX {max_retry} retries reached : {network.code}.{station.code}\")\n",
    "\n",
    "    if len(stream) > 0:\n",
    "        # stream = stream.merge(fill_value=0)\n",
    "        # stream = stream.trim(starttime, endtime, pad=True, fill_value=0)\n",
    "        stream.write(os.path.join(waveform_dir, fname))\n",
    "        print(f\"{fname} download succeeds\")\n",
    "        # if upload_minio:\n",
    "        #     minioClient.fput_object(bucket_name, os.path.join(config['region'], fname), os.path.join(waveform_dir, fname))\n",
    "        #     print(f\"{fname} upload to minio {os.path.join(config['region'], fname)}\")\n",
    "    else:\n",
    "        print(f\"{fname} empty data\")\n",
    "    lock.acquire()\n",
    "    fname_list.append(fname)\n",
    "    lock.release()\n",
    "\n",
    "threads = []\n",
    "MAX_THREADS = 2\n",
    "# MAX_THREADS = 1\n",
    "for ii, i in enumerate(idx):\n",
    "    t = threading.Thread(target=download, args=(i,))\n",
    "    t.start()\n",
    "    time.sleep(1)\n",
    "    threads.append(t)\n",
    "    if ii % MAX_THREADS == MAX_THREADS - 1:\n",
    "        for t in threads:\n",
    "            t.join()\n",
    "        threads = []\n",
    "for t in threads:\n",
    "    t.join()\n",
    "\n",
    "fname_csv = \"fname.csv\"\n",
    "with open(fname_csv, \"w\") as fp:\n",
    "    fp.write(\"\\n\".join(fname_list))\n",
    "\n",
    "# return waveform_dir\n"
   ]
  },
  {
   "cell_type": "code",
   "execution_count": 3,
   "id": "ae903380",
   "metadata": {
    "execution": {
     "iopub.execute_input": "2025-06-03T02:37:19.601308Z",
     "iopub.status.busy": "2025-06-03T02:37:19.600900Z",
     "iopub.status.idle": "2025-06-03T02:37:26.478643Z",
     "shell.execute_reply": "2025-06-03T02:37:26.478024Z"
    },
    "papermill": {
     "duration": 6.885258,
     "end_time": "2025-06-03T02:37:26.479964",
     "exception": false,
     "start_time": "2025-06-03T02:37:19.594706",
     "status": "completed"
    },
    "tags": []
   },
   "outputs": [
    {
     "name": "stdout",
     "output_type": "stream",
     "text": [
      "Waveforms directory contains 2 files\n"
     ]
    },
    {
     "name": "stdout",
     "output_type": "stream",
     "text": [
      "Created waveforms.tar.gz successfully\n",
      "Archive size: 100176080 bytes\n"
     ]
    }
   ],
   "source": [
    "import tarfile\n",
    "import os\n",
    "\n",
    "if os.path.exists('waveforms'):\n",
    "    print(f\"Waveforms directory contains {len(os.listdir('waveforms'))} files\")\n",
    "    \n",
    "    with tarfile.open('waveforms.tar.gz', 'w:gz') as tar:\n",
    "        tar.add('waveforms', arcname='waveforms')\n",
    "    \n",
    "    print(\"Created waveforms.tar.gz successfully\")\n",
    "    print(f\"Archive size: {os.path.getsize('waveforms.tar.gz')} bytes\")\n",
    "else:\n",
    "    print(\"ERROR: waveforms directory not found!\")"
   ]
  },
  {
   "cell_type": "code",
   "execution_count": 4,
   "id": "4bb0b5fb",
   "metadata": {
    "execution": {
     "iopub.execute_input": "2025-06-03T02:37:26.486482Z",
     "iopub.status.busy": "2025-06-03T02:37:26.485989Z",
     "iopub.status.idle": "2025-06-03T02:37:26.489766Z",
     "shell.execute_reply": "2025-06-03T02:37:26.489165Z"
    },
    "papermill": {
     "duration": 0.008144,
     "end_time": "2025-06-03T02:37:26.490856",
     "exception": false,
     "start_time": "2025-06-03T02:37:26.482712",
     "status": "completed"
    },
    "tags": []
   },
   "outputs": [],
   "source": [
    "# Kubeflow Pipelines UI用のメタデータ出力\n",
    "if os.environ.get('ELYRA_RUNTIME_ENV') == 'kfp':\n",
    "    # For information about Elyra environment variables refer to\n",
    "    # https://elyra.readthedocs.io/en/stable/user_guide/best-practices-file-based-nodes.html#proprietary-environment-variables\n",
    "\n",
    "    metadata = {\n",
    "        'outputs': [\n",
    "            {\n",
    "                'storage': 'inline',\n",
    "                'source': f'# Download Waveform Data Complete\\n',\n",
    "                'type': 'markdown',\n",
    "            }\n",
    "        ]\n",
    "    }\n",
    "\n",
    "    with open('mlpipeline-ui-metadata.json', 'w') as f:\n",
    "        json.dump(metadata, f)"
   ]
  }
 ],
 "metadata": {
  "kernelspec": {
   "display_name": "Python 3 (ipykernel)",
   "language": "python",
   "name": "python3"
  },
  "language_info": {
   "codemirror_mode": {
    "name": "ipython",
    "version": 3
   },
   "file_extension": ".py",
   "mimetype": "text/x-python",
   "name": "python",
   "nbconvert_exporter": "python",
   "pygments_lexer": "ipython3",
   "version": "3.10.13"
  },
  "papermill": {
   "default_parameters": {},
   "duration": 142.759255,
   "end_time": "2025-06-03T02:37:26.711055",
   "environment_variables": {},
   "exception": null,
   "input_path": "Download_Waveform_data.ipynb",
   "output_path": "Download_Waveform_data-output.ipynb",
   "parameters": {},
   "start_time": "2025-06-03T02:35:03.951800",
   "version": "2.6.0"
  }
 },
 "nbformat": 4,
 "nbformat_minor": 5
}
