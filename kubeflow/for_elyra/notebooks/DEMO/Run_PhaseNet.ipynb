{
 "cells": [
  {
   "cell_type": "code",
   "execution_count": 1,
   "id": "2d00cad3",
   "metadata": {
    "execution": {
     "iopub.execute_input": "2025-08-21T10:13:57.737260Z",
     "iopub.status.busy": "2025-08-21T10:13:57.736918Z",
     "iopub.status.idle": "2025-08-21T10:13:56.675365Z",
     "shell.execute_reply": "2025-08-21T10:13:56.674432Z"
    },
    "papermill": {
     "duration": -1.057454,
     "end_time": "2025-08-21T10:13:56.676875",
     "exception": false,
     "start_time": "2025-08-21T10:13:57.734329",
     "status": "completed"
    },
    "tags": []
   },
   "outputs": [
    {
     "name": "stdout",
     "output_type": "stream",
     "text": [
      "Extracted waveforms directory with 2 files\n",
      "Sample files: ['2019-07-04T18:00:00.mseed', '2019-07-04T17:00:00.mseed']\n"
     ]
    }
   ],
   "source": [
    "# waveforms.tar.gzを展開\n",
    "import tarfile\n",
    "import os\n",
    "import json\n",
    "\n",
    "if os.path.exists('waveforms.tar.gz'):\n",
    "    with tarfile.open('waveforms.tar.gz', 'r:gz') as tar:\n",
    "        tar.extractall()\n",
    "    \n",
    "    if os.path.exists('waveforms'):\n",
    "        print(f\"Extracted waveforms directory with {len(os.listdir('waveforms'))} files\")\n",
    "        print(\"Sample files:\", os.listdir('waveforms')[:5])\n",
    "    else:\n",
    "        print(\"ERROR: Failed to extract waveforms directory\")\n",
    "else:\n",
    "    print(\"ERROR: waveforms.tar.gz not found\")"
   ]
  },
  {
   "cell_type": "code",
   "execution_count": 2,
   "id": "69765232",
   "metadata": {
    "execution": {
     "iopub.execute_input": "2025-08-21T10:13:56.682430Z",
     "iopub.status.busy": "2025-08-21T10:13:56.681793Z",
     "iopub.status.idle": "2025-08-21T10:13:56.989039Z",
     "shell.execute_reply": "2025-08-21T10:13:56.987785Z"
    },
    "papermill": {
     "duration": 0.313595,
     "end_time": "2025-08-21T10:13:56.991572",
     "exception": false,
     "start_time": "2025-08-21T10:13:56.677977",
     "status": "completed"
    },
    "tags": []
   },
   "outputs": [
    {
     "name": "stdout",
     "output_type": "stream",
     "text": [
      "python phasenet/predict.py --model=model/190703-214543 --data_dir='waveforms' --data_list='fname.csv' --stations='stations/stations.json' --result_dir='phasenet' --format=mseed_array --amplitude\n"
     ]
    },
    {
     "name": "stdout",
     "output_type": "stream",
     "text": [
      "Traceback (most recent call last):\r\n",
      "  File \"/home/okadak/work/QuakeFlow/kubeflow/for_elyra/notebooks/phasenet/predict.py\", line 9, in <module>\r\n",
      "    import h5py\r\n",
      "ModuleNotFoundError: No module named 'h5py'\r\n"
     ]
    }
   ],
   "source": [
    "command = f\"python phasenet/predict.py --model=model/190703-214543 --data_dir='waveforms' --data_list='fname.csv' --stations='stations/stations.json' --result_dir='phasenet' --format=mseed_array --amplitude\"# --upload_waveform\"\n",
    "print(command)\n",
    "!{command}"
   ]
  },
  {
   "cell_type": "code",
   "execution_count": 3,
   "id": "8bcc3132",
   "metadata": {
    "execution": {
     "iopub.execute_input": "2025-08-21T10:13:57.001506Z",
     "iopub.status.busy": "2025-08-21T10:13:57.000260Z",
     "iopub.status.idle": "2025-08-21T10:13:57.006038Z",
     "shell.execute_reply": "2025-08-21T10:13:57.004939Z"
    },
    "papermill": {
     "duration": 0.014209,
     "end_time": "2025-08-21T10:13:57.007949",
     "exception": false,
     "start_time": "2025-08-21T10:13:56.993740",
     "status": "completed"
    },
    "tags": []
   },
   "outputs": [],
   "source": [
    "# Kubeflow Pipelines UI用のメタデータ出力\n",
    "if os.environ.get('ELYRA_RUNTIME_ENV') == 'kfp':\n",
    "    # For information about Elyra environment variables refer to\n",
    "    # https://elyra.readthedocs.io/en/stable/user_guide/best-practices-file-based-nodes.html#proprietary-environment-variables\n",
    "\n",
    "    metadata = {\n",
    "        'outputs': [\n",
    "            {\n",
    "                'storage': 'inline',\n",
    "                'source': f'# Run PhaseNet Complete\\n',\n",
    "                'type': 'markdown',\n",
    "            }\n",
    "        ]\n",
    "    }\n",
    "\n",
    "    with open('mlpipeline-ui-metadata.json', 'w') as f:\n",
    "        json.dump(metadata, f)"
   ]
  }
 ],
 "metadata": {
  "kernelspec": {
   "display_name": "Python 3 (ipykernel)",
   "language": "python",
   "name": "python3"
  },
  "language_info": {
   "codemirror_mode": {
    "name": "ipython",
    "version": 3
   },
   "file_extension": ".py",
   "mimetype": "text/x-python",
   "name": "python",
   "nbconvert_exporter": "python",
   "pygments_lexer": "ipython3",
   "version": "3.12.2"
  },
  "papermill": {
   "default_parameters": {},
   "duration": 0.739922,
   "end_time": "2025-08-21T10:13:57.328590",
   "environment_variables": {},
   "exception": null,
   "input_path": "/home/okadak/work/QuakeFlow/kubeflow/for_elyra/notebooks/Run_PhaseNet.ipynb",
   "output_path": "/home/okadak/work/QuakeFlow/kubeflow/for_elyra/notebooks/Run_PhaseNet.ipynb",
   "parameters": {},
   "start_time": "2025-08-21T10:13:56.588668",
   "version": "2.6.0"
  }
 },
 "nbformat": 4,
 "nbformat_minor": 5
}