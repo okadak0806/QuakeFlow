{
 "cells": [
  {
   "cell_type": "code",
   "execution_count": 1,
   "id": "2d00cad3",
   "metadata": {
    "execution": {
     "iopub.execute_input": "2025-06-03T02:37:53.303304Z",
     "iopub.status.busy": "2025-06-03T02:37:53.303039Z",
     "iopub.status.idle": "2025-06-03T02:37:54.115950Z",
     "shell.execute_reply": "2025-06-03T02:37:54.115378Z"
    },
    "papermill": {
     "duration": 0.815831,
     "end_time": "2025-06-03T02:37:54.117026",
     "exception": false,
     "start_time": "2025-06-03T02:37:53.301195",
     "status": "completed"
    },
    "tags": []
   },
   "outputs": [
    {
     "name": "stdout",
     "output_type": "stream",
     "text": [
      "Extracted waveforms directory with 2 files\n",
      "Sample files: ['2019-07-04T18:00:00.mseed', '2019-07-04T17:00:00.mseed']\n"
     ]
    }
   ],
   "source": [
    "# waveforms.tar.gzを展開\n",
    "import tarfile\n",
    "import os\n",
    "import json\n",
    "\n",
    "if os.path.exists('waveforms.tar.gz'):\n",
    "    with tarfile.open('waveforms.tar.gz', 'r:gz') as tar:\n",
    "        tar.extractall()\n",
    "    \n",
    "    if os.path.exists('waveforms'):\n",
    "        print(f\"Extracted waveforms directory with {len(os.listdir('waveforms'))} files\")\n",
    "        print(\"Sample files:\", os.listdir('waveforms')[:5])\n",
    "    else:\n",
    "        print(\"ERROR: Failed to extract waveforms directory\")\n",
    "else:\n",
    "    print(\"ERROR: waveforms.tar.gz not found\")"
   ]
  },
  {
   "cell_type": "code",
   "execution_count": 2,
   "id": "69765232",
   "metadata": {
    "execution": {
     "iopub.execute_input": "2025-06-03T02:37:54.119728Z",
     "iopub.status.busy": "2025-06-03T02:37:54.119370Z",
     "iopub.status.idle": "2025-06-03T02:38:36.630121Z",
     "shell.execute_reply": "2025-06-03T02:38:36.629521Z"
    },
    "papermill": {
     "duration": 42.513263,
     "end_time": "2025-06-03T02:38:36.631322",
     "exception": false,
     "start_time": "2025-06-03T02:37:54.118059",
     "status": "completed"
    },
    "tags": []
   },
   "outputs": [
    {
     "name": "stdout",
     "output_type": "stream",
     "text": [
      "python phasenet/predict.py --model=model/190703-214543 --data_dir='waveforms' --data_list='fname.csv' --stations='stations/stations.json' --result_dir='phasenet' --format=mseed_array --amplitude\n"
     ]
    },
    {
     "name": "stdout",
     "output_type": "stream",
     "text": [
      "2025-06-03 02:37:54.680401: I tensorflow/core/util/port.cc:111] oneDNN custom operations are on. You may see slightly different numerical results due to floating-point round-off errors from different computation orders. To turn them off, set the environment variable `TF_ENABLE_ONEDNN_OPTS=0`.\r\n"
     ]
    },
    {
     "name": "stdout",
     "output_type": "stream",
     "text": [
      "2025-06-03 02:37:54.706834: I tensorflow/core/platform/cpu_feature_guard.cc:182] This TensorFlow binary is optimized to use available CPU instructions in performance-critical operations.\r\n",
      "To enable the following instructions: AVX2 AVX_VNNI FMA, in other operations, rebuild TensorFlow with the appropriate compiler flags.\r\n"
     ]
    },
    {
     "name": "stdout",
     "output_type": "stream",
     "text": [
      "/opt/phasenet/data_reader.py:436: SyntaxWarning: assertion is always true, perhaps remove parentheses?\r\n",
      "  assert (len(station_ids) == 1, f\"Error: {fname} has multiple stations {station_ids}\")\r\n"
     ]
    },
    {
     "name": "stdout",
     "output_type": "stream",
     "text": [
      "                 longitude   latitude  elevation(m)  component                                 response    unit\r\n",
      "CI.CCC..BH     -117.364530  35.524950         670.0  [E, N, Z]  [627373000.0, 627373000.0, 627373000.0]     m/s\r\n",
      "CI.CCC..HH     -117.364530  35.524950         670.0  [E, N, Z]  [627369000.0, 627369000.0, 627369000.0]     m/s\r\n",
      "CI.CCC..HN     -117.364530  35.524950         670.0  [E, N, Z]           [213980.0, 214322.0, 213809.0]  m/s**2\r\n",
      "CI.CLC..BH     -117.597510  35.815740         775.0  [E, N, Z]  [627373000.0, 627373000.0, 627373000.0]     m/s\r\n",
      "CI.CLC..HH     -117.597510  35.815740         775.0  [E, N, Z]  [627369000.0, 627369000.0, 627369000.0]     m/s\r\n",
      "CI.CLC..HN     -117.597510  35.815740         775.0  [E, N, Z]           [213945.0, 213809.0, 213740.0]  m/s**2\r\n",
      "CI.DTP..BH     -117.845810  35.267420         908.0  [E, N, Z]  [627373000.0, 627373000.0, 627373000.0]     m/s\r\n",
      "CI.DTP..HH     -117.845810  35.267420         908.0  [E, N, Z]  [627369000.0, 627369000.0, 627369000.0]     m/s\r\n",
      "CI.DTP..HN     -117.845810  35.267420         908.0  [E, N, Z]           [214399.0, 213971.0, 214484.0]  m/s**2\r\n",
      "CI.JRC2..BH    -117.808850  35.982490        1469.0  [E, N, Z]  [784872000.0, 784872000.0, 790484000.0]     m/s\r\n",
      "CI.JRC2..HH    -117.808850  35.982490        1469.0  [E, N, Z]  [784867000.0, 784867000.0, 790479000.0]     m/s\r\n",
      "CI.JRC2..HN    -117.808850  35.982490        1469.0  [E, N, Z]           [213809.0, 213945.0, 214185.0]  m/s**2\r\n",
      "CI.LRL..BH     -117.682120  35.479540        1340.0  [E, N, Z]  [632496000.0, 634185000.0, 631652000.0]     m/s\r\n",
      "CI.LRL..HH     -117.682120  35.479540        1340.0  [E, N, Z]  [629025000.0, 630705000.0, 628185000.0]     m/s\r\n",
      "CI.LRL..HN     -117.682120  35.479540        1340.0  [E, N, Z]           [214001.0, 213916.0, 213445.0]  m/s**2\r\n",
      "CI.LRL.2C.HN   -117.682120  35.479540        1340.0  [E, N, Z]           [213866.0, 213781.0, 213310.0]  m/s**2\r\n",
      "CI.MPM..BH     -117.489010  36.057990        1839.0  [E, N, Z]  [627373000.0, 627373000.0, 627373000.0]     m/s\r\n",
      "CI.MPM..HH     -117.489010  36.057990        1839.0  [E, N, Z]  [627369000.0, 627369000.0, 627369000.0]     m/s\r\n",
      "CI.MPM..HN     -117.489010  36.057990        1839.0  [E, N, Z]           [213911.0, 214219.0, 213911.0]  m/s**2\r\n",
      "CI.Q0072.01.HN -117.666721  35.609617         695.0  [E, N, Z]           [256354.0, 256354.0, 256354.0]  m/s**2\r\n",
      "CI.SLA..BH     -117.283320  35.890950        1174.0  [E, N, Z]  [622341000.0, 618995000.0, 616485000.0]     m/s\r\n",
      "CI.SLA..HH     -117.283320  35.890950        1174.0  [E, N, Z]  [622336000.0, 618991000.0, 616481000.0]     m/s\r\n",
      "CI.SLA..HN     -117.283320  35.890950        1174.0  [E, N, Z]           [214253.0, 213672.0, 213980.0]  m/s**2\r\n",
      "CI.SRT..BH     -117.750510  35.692350         667.0  [E, N, Z]  [633341000.0, 633341000.0, 633341000.0]     m/s\r\n",
      "CI.SRT..HH     -117.750510  35.692350         667.0  [E, N, Z]  [629865000.0, 629865000.0, 629865000.0]     m/s\r\n",
      "CI.SRT..HN     -117.750510  35.692350         667.0  [E, N, Z]           [214301.0, 213873.0, 214087.0]  m/s**2\r\n",
      "CI.TOW2..BH    -117.764880  35.808560         685.0  [E, N, Z]  [626915000.0, 626915000.0, 626843000.0]     m/s\r\n",
      "CI.TOW2..HH    -117.764880  35.808560         685.0  [E, N, Z]  [626911000.0, 626911000.0, 626839000.0]     m/s\r\n",
      "CI.TOW2..HN    -117.764880  35.808560         685.0  [E, N, Z]           [213800.0, 214142.0, 214356.0]  m/s**2\r\n",
      "CI.WBM..BH     -117.890490  35.608390         892.0  [E, N, Z]  [316472000.0, 316472000.0, 316472000.0]     m/s\r\n",
      "CI.WBM..HH     -117.890490  35.608390         892.0  [E, N, Z]  [314768000.0, 314768000.0, 314768000.0]     m/s\r\n",
      "CI.WBM..HN     -117.890490  35.608390         892.0  [E, N, Z]           [213683.0, 214197.0, 213683.0]  m/s**2\r\n",
      "CI.WBM.2C.HN   -117.890490  35.608390         892.0  [E, N, Z]           [213520.0, 214033.0, 213520.0]  m/s**2\r\n",
      "CI.WCS2..BH    -117.765260  36.025210        1143.0  [E, N, Z]  [626915000.0, 626915000.0, 626843000.0]     m/s\r\n",
      "CI.WCS2..HH    -117.765260  36.025210        1143.0  [E, N, Z]  [626911000.0, 626911000.0, 626839000.0]     m/s\r\n",
      "CI.WCS2..HN    -117.765260  36.025210        1143.0  [E, N, Z]           [213757.0, 213330.0, 213415.0]  m/s**2\r\n",
      "CI.WMF..BH     -117.854860  36.117580        1537.4  [E, N, Z]  [629963000.0, 631652000.0, 629963000.0]     m/s\r\n",
      "CI.WMF..HH     -117.854860  36.117580        1537.4  [E, N, Z]  [626506000.0, 628185000.0, 626506000.0]     m/s\r\n",
      "CI.WMF..HN     -117.854860  36.117580        1537.4  [E, N, Z]           [214087.0, 214087.0, 214087.0]  m/s**2\r\n",
      "CI.WMF.2C.HN   -117.854860  36.117580        1537.4  [E, N, Z]           [213952.0, 213952.0, 213952.0]  m/s**2\r\n",
      "CI.WNM..EH     -117.906160  35.842200         974.3        [Z]                             [69306200.0]     m/s\r\n",
      "CI.WNM..HN     -117.906160  35.842200         974.3  [E, N, Z]           [214054.0, 213926.0, 214054.0]  m/s**2\r\n",
      "CI.WNM.2C.HN   -117.906160  35.842200         974.3  [E, N, Z]           [214048.0, 213920.0, 214048.0]  m/s**2\r\n",
      "CI.WRC2..BH    -117.650380  35.947900         943.0  [E, N, Z]  [633341000.0, 633341000.0, 633341000.0]     m/s\r\n",
      "CI.WRC2..HH    -117.650380  35.947900         943.0  [E, N, Z]  [629865000.0, 629865000.0, 629865000.0]     m/s\r\n",
      "CI.WRC2..HN    -117.650380  35.947900         943.0  [E, N, Z]           [214472.0, 214215.0, 214301.0]  m/s**2\r\n",
      "CI.WRV2..EH    -117.890400  36.007740        1070.0        [Z]                             [71427500.0]     m/s\r\n",
      "CI.WRV2..HN    -117.890400  36.007740        1070.0  [E, N, Z]           [213883.0, 235224.0, 235139.0]  m/s**2\r\n",
      "CI.WRV2.2C.HN  -117.890400  36.007740        1070.0  [E, N, Z]           [213877.0, 235218.0, 235132.0]  m/s**2\r\n",
      "CI.WVP2..EH    -117.817690  35.949390        1465.0        [Z]                             [68019200.0]     m/s\r\n",
      "CI.WVP2..HN    -117.817690  35.949390        1465.0  [E, N, Z]           [213797.0, 213584.0, 213755.0]  m/s**2\r\n",
      "CI.WVP2.2C.HN  -117.817690  35.949390        1465.0  [E, N, Z]           [213791.0, 213578.0, 213749.0]  m/s**2\r\n"
     ]
    },
    {
     "name": "stdout",
     "output_type": "stream",
     "text": [
      "2025-06-03 02:37:56,584 Resampling CI.CCC..BHE from 40.0 to 100 Hz\r\n"
     ]
    },
    {
     "name": "stdout",
     "output_type": "stream",
     "text": [
      "2025-06-03 02:37:56,789 Resampling CI.CCC..BHN from 40.0 to 100 Hz\r\n",
      "2025-06-03 02:37:56,793 Resampling CI.CCC..BHZ from 40.0 to 100 Hz\r\n",
      "2025-06-03 02:37:56,796 Resampling CI.CLC..BHE from 40.0 to 100 Hz\r\n",
      "2025-06-03 02:37:56,799 Resampling CI.CLC..BHN from 40.0 to 100 Hz\r\n",
      "2025-06-03 02:37:56,803 Resampling CI.CLC..BHZ from 40.0 to 100 Hz\r\n",
      "2025-06-03 02:37:56,806 Resampling CI.DTP..BHE from 40.0 to 100 Hz\r\n",
      "2025-06-03 02:37:56,810 Resampling CI.DTP..BHN from 40.0 to 100 Hz\r\n"
     ]
    },
    {
     "name": "stdout",
     "output_type": "stream",
     "text": [
      "2025-06-03 02:37:56,814 Resampling CI.DTP..BHZ from 40.0 to 100 Hz\r\n",
      "2025-06-03 02:37:56,818 Resampling CI.JRC2..BHE from 40.0 to 100 Hz\r\n",
      "2025-06-03 02:37:56,823 Resampling CI.JRC2..BHN from 40.0 to 100 Hz\r\n",
      "2025-06-03 02:37:56,826 Resampling CI.JRC2..BHZ from 40.0 to 100 Hz\r\n",
      "2025-06-03 02:37:56,830 Resampling CI.LRL..BHE from 40.0 to 100 Hz\r\n",
      "2025-06-03 02:37:56,834 Resampling CI.LRL..BHN from 40.0 to 100 Hz\r\n",
      "2025-06-03 02:37:56,837 Resampling CI.LRL..BHZ from 40.0 to 100 Hz\r\n",
      "2025-06-03 02:37:56,841 Resampling CI.MPM..BHE from 40.0 to 100 Hz\r\n",
      "2025-06-03 02:37:56,844 Resampling CI.MPM..BHN from 40.0 to 100 Hz\r\n",
      "2025-06-03 02:37:56,847 Resampling CI.MPM..BHZ from 40.0 to 100 Hz\r\n",
      "2025-06-03 02:37:56,851 Resampling CI.SLA..BHE from 40.0 to 100 Hz\r\n",
      "2025-06-03 02:37:56,854 Resampling CI.SLA..BHN from 40.0 to 100 Hz\r\n",
      "2025-06-03 02:37:56,858 Resampling CI.SLA..BHZ from 40.0 to 100 Hz\r\n"
     ]
    },
    {
     "name": "stdout",
     "output_type": "stream",
     "text": [
      "2025-06-03 02:37:56,863 Resampling CI.SRT..BHE from 40.0 to 100 Hz\r\n",
      "2025-06-03 02:37:56,868 Resampling CI.SRT..BHN from 40.0 to 100 Hz\r\n",
      "2025-06-03 02:37:56,872 Resampling CI.SRT..BHZ from 40.0 to 100 Hz\r\n",
      "2025-06-03 02:37:56,877 Resampling CI.TOW2..BHE from 40.0 to 100 Hz\r\n",
      "2025-06-03 02:37:56,881 Resampling CI.TOW2..BHN from 40.0 to 100 Hz\r\n",
      "2025-06-03 02:37:56,886 Resampling CI.TOW2..BHZ from 40.0 to 100 Hz\r\n",
      "2025-06-03 02:37:56,890 Resampling CI.WBM..BHE from 40.0 to 100 Hz\r\n",
      "2025-06-03 02:37:56,895 Resampling CI.WBM..BHN from 40.0 to 100 Hz\r\n",
      "2025-06-03 02:37:56,899 Resampling CI.WBM..BHZ from 40.0 to 100 Hz\r\n",
      "2025-06-03 02:37:56,904 Resampling CI.WCS2..BHE from 40.0 to 100 Hz\r\n",
      "2025-06-03 02:37:56,908 Resampling CI.WCS2..BHN from 40.0 to 100 Hz\r\n"
     ]
    },
    {
     "name": "stdout",
     "output_type": "stream",
     "text": [
      "2025-06-03 02:37:56,913 Resampling CI.WCS2..BHZ from 40.0 to 100 Hz\r\n",
      "2025-06-03 02:37:56,918 Resampling CI.WMF..BHE from 40.0 to 100 Hz\r\n",
      "2025-06-03 02:37:56,923 Resampling CI.WMF..BHN from 40.0 to 100 Hz\r\n",
      "2025-06-03 02:37:56,927 Resampling CI.WMF..BHZ from 40.0 to 100 Hz\r\n",
      "2025-06-03 02:37:56,931 Resampling CI.WRC2..BHE from 40.0 to 100 Hz\r\n",
      "2025-06-03 02:37:56,936 Resampling CI.WRC2..BHN from 40.0 to 100 Hz\r\n",
      "2025-06-03 02:37:56,940 Resampling CI.WRC2..BHZ from 40.0 to 100 Hz\r\n"
     ]
    },
    {
     "name": "stdout",
     "output_type": "stream",
     "text": [
      "Empty trace: CI.LRL.2C.HNE 2019-07-04T17:59:59.994500Z\r\n",
      "Empty trace: CI.LRL.2C.HNN 2019-07-04T17:59:59.994500Z\r\n",
      "Empty trace: CI.LRL.2C.HNZ 2019-07-04T17:59:59.994500Z\r\n"
     ]
    },
    {
     "name": "stdout",
     "output_type": "stream",
     "text": [
      "Empty trace: CI.Q0072.01.HNE 2019-07-04T17:59:59.994500Z\r\n",
      "Empty trace: CI.Q0072.01.HNN 2019-07-04T17:59:59.994500Z\r\n",
      "Empty trace: CI.Q0072.01.HNZ 2019-07-04T17:59:59.994500Z\r\n"
     ]
    },
    {
     "name": "stdout",
     "output_type": "stream",
     "text": [
      "Empty trace: CI.WBM.2C.HNE 2019-07-04T17:59:59.994500Z\r\n",
      "Empty trace: CI.WBM.2C.HNN 2019-07-04T17:59:59.994500Z\r\n",
      "Empty trace: CI.WBM.2C.HNZ 2019-07-04T17:59:59.994500Z\r\n"
     ]
    },
    {
     "name": "stdout",
     "output_type": "stream",
     "text": [
      "Empty trace: CI.WMF.2C.HNE 2019-07-04T17:59:59.994500Z\r\n",
      "Empty trace: CI.WMF.2C.HNN 2019-07-04T17:59:59.994500Z\r\n",
      "Empty trace: CI.WMF.2C.HNZ 2019-07-04T17:59:59.994500Z\r\n"
     ]
    },
    {
     "name": "stdout",
     "output_type": "stream",
     "text": [
      "Empty trace: CI.WNM.2C.HNE 2019-07-04T17:59:59.994500Z\r\n",
      "Empty trace: CI.WNM.2C.HNN 2019-07-04T17:59:59.994500Z\r\n",
      "Empty trace: CI.WNM.2C.HNZ 2019-07-04T17:59:59.994500Z\r\n"
     ]
    },
    {
     "name": "stdout",
     "output_type": "stream",
     "text": [
      "Empty trace: CI.WRV2.2C.HNE 2019-07-04T17:59:59.994500Z\r\n",
      "Empty trace: CI.WRV2.2C.HNN 2019-07-04T17:59:59.994500Z\r\n",
      "Empty trace: CI.WRV2.2C.HNZ 2019-07-04T17:59:59.994500Z\r\n"
     ]
    },
    {
     "name": "stdout",
     "output_type": "stream",
     "text": [
      "Empty trace: CI.WVP2.2C.HNE 2019-07-04T17:59:59.994500Z\r\n",
      "Empty trace: CI.WVP2.2C.HNN 2019-07-04T17:59:59.994500Z\r\n",
      "Empty trace: CI.WVP2.2C.HNZ 2019-07-04T17:59:59.994500Z\r\n"
     ]
    },
    {
     "name": "stdout",
     "output_type": "stream",
     "text": [
      "2025-06-03 02:38:05,339 Pred log: phasenet\r\n",
      "2025-06-03 02:38:05,339 Dataset size: 2\r\n"
     ]
    },
    {
     "name": "stdout",
     "output_type": "stream",
     "text": [
      "2025-06-03 02:38:05,395 Model: depths 5, filters 8, filter size 7x1, pool size: 4x1, dilation rate: 1x1\r\n"
     ]
    },
    {
     "name": "stdout",
     "output_type": "stream",
     "text": [
      "2025-06-03 02:38:06.310559: I tensorflow/compiler/mlir/mlir_graph_optimization_pass.cc:382] MLIR V1 optimization pass is not enabled\r\n"
     ]
    },
    {
     "name": "stdout",
     "output_type": "stream",
     "text": [
      "2025-06-03 02:38:06,421 restoring model model/190703-214543/model_95.ckpt\r\n"
     ]
    },
    {
     "name": "stdout",
     "output_type": "stream",
     "text": [
      "\r",
      "Pred:   0%|                                               | 0/2 [00:00<?, ?it/s]"
     ]
    },
    {
     "name": "stdout",
     "output_type": "stream",
     "text": [
      "2025-06-03 02:38:06,874 Resampling CI.CCC..BHE from 40.0 to 100 Hz\r\n",
      "2025-06-03 02:38:06,879 Resampling CI.CCC..BHN from 40.0 to 100 Hz\r\n",
      "2025-06-03 02:38:06,883 Resampling CI.CCC..BHZ from 40.0 to 100 Hz\r\n",
      "2025-06-03 02:38:06,886 Resampling CI.CLC..BHE from 40.0 to 100 Hz\r\n",
      "2025-06-03 02:38:06,890 Resampling CI.CLC..BHN from 40.0 to 100 Hz\r\n",
      "2025-06-03 02:38:06,894 Resampling CI.CLC..BHZ from 40.0 to 100 Hz\r\n",
      "2025-06-03 02:38:06,897 Resampling CI.DTP..BHE from 40.0 to 100 Hz\r\n",
      "2025-06-03 02:38:06,901 Resampling CI.DTP..BHN from 40.0 to 100 Hz\r\n",
      "2025-06-03 02:38:06,904 Resampling CI.DTP..BHZ from 40.0 to 100 Hz\r\n",
      "2025-06-03 02:38:06,908 Resampling CI.JRC2..BHE from 40.0 to 100 Hz\r\n",
      "2025-06-03 02:38:06,912 Resampling CI.JRC2..BHN from 40.0 to 100 Hz\r\n",
      "2025-06-03 02:38:06,915 Resampling CI.JRC2..BHZ from 40.0 to 100 Hz\r\n",
      "2025-06-03 02:38:06,919 Resampling CI.LRL..BHE from 40.0 to 100 Hz\r\n"
     ]
    },
    {
     "name": "stdout",
     "output_type": "stream",
     "text": [
      "2025-06-03 02:38:06,923 Resampling CI.LRL..BHN from 40.0 to 100 Hz\r\n",
      "2025-06-03 02:38:06,927 Resampling CI.LRL..BHZ from 40.0 to 100 Hz\r\n",
      "2025-06-03 02:38:06,930 Resampling CI.MPM..BHE from 40.0 to 100 Hz\r\n",
      "2025-06-03 02:38:06,934 Resampling CI.MPM..BHN from 40.0 to 100 Hz\r\n",
      "2025-06-03 02:38:06,937 Resampling CI.MPM..BHZ from 40.0 to 100 Hz\r\n",
      "2025-06-03 02:38:06,941 Resampling CI.SLA..BHE from 40.0 to 100 Hz\r\n",
      "2025-06-03 02:38:06,944 Resampling CI.SLA..BHN from 40.0 to 100 Hz\r\n",
      "2025-06-03 02:38:06,948 Resampling CI.SLA..BHZ from 40.0 to 100 Hz\r\n",
      "2025-06-03 02:38:06,951 Resampling CI.SRT..BHE from 40.0 to 100 Hz\r\n",
      "2025-06-03 02:38:06,955 Resampling CI.SRT..BHN from 40.0 to 100 Hz\r\n",
      "2025-06-03 02:38:06,958 Resampling CI.SRT..BHZ from 40.0 to 100 Hz\r\n",
      "2025-06-03 02:38:06,962 Resampling CI.TOW2..BHE from 40.0 to 100 Hz\r\n",
      "2025-06-03 02:38:06,967 Resampling CI.TOW2..BHN from 40.0 to 100 Hz\r\n",
      "2025-06-03 02:38:06,971 Resampling CI.TOW2..BHZ from 40.0 to 100 Hz\r\n"
     ]
    },
    {
     "name": "stdout",
     "output_type": "stream",
     "text": [
      "2025-06-03 02:38:06,975 Resampling CI.WBM..BHE from 40.0 to 100 Hz\r\n",
      "2025-06-03 02:38:06,979 Resampling CI.WBM..BHN from 40.0 to 100 Hz\r\n",
      "2025-06-03 02:38:06,984 Resampling CI.WBM..BHZ from 40.0 to 100 Hz\r\n",
      "2025-06-03 02:38:06,988 Resampling CI.WCS2..BHE from 40.0 to 100 Hz\r\n",
      "2025-06-03 02:38:06,992 Resampling CI.WCS2..BHN from 40.0 to 100 Hz\r\n",
      "2025-06-03 02:38:06,996 Resampling CI.WCS2..BHZ from 40.0 to 100 Hz\r\n",
      "2025-06-03 02:38:07,001 Resampling CI.WMF..BHE from 40.0 to 100 Hz\r\n",
      "2025-06-03 02:38:07,005 Resampling CI.WMF..BHN from 40.0 to 100 Hz\r\n",
      "2025-06-03 02:38:07,010 Resampling CI.WMF..BHZ from 40.0 to 100 Hz\r\n",
      "2025-06-03 02:38:07,014 Resampling CI.WRC2..BHE from 40.0 to 100 Hz\r\n",
      "2025-06-03 02:38:07,018 Resampling CI.WRC2..BHN from 40.0 to 100 Hz\r\n",
      "2025-06-03 02:38:07,021 Resampling CI.WRC2..BHZ from 40.0 to 100 Hz\r\n"
     ]
    },
    {
     "name": "stdout",
     "output_type": "stream",
     "text": [
      "Empty trace: CI.LRL.2C.HNE 2019-07-04T17:59:59.994500Z\r\n",
      "Empty trace: CI.LRL.2C.HNN 2019-07-04T17:59:59.994500Z\r\n",
      "Empty trace: CI.LRL.2C.HNZ 2019-07-04T17:59:59.994500Z\r\n"
     ]
    },
    {
     "name": "stdout",
     "output_type": "stream",
     "text": [
      "Empty trace: CI.Q0072.01.HNE 2019-07-04T17:59:59.994500Z\r\n",
      "Empty trace: CI.Q0072.01.HNN 2019-07-04T17:59:59.994500Z\r\n",
      "Empty trace: CI.Q0072.01.HNZ 2019-07-04T17:59:59.994500Z\r\n"
     ]
    },
    {
     "name": "stdout",
     "output_type": "stream",
     "text": [
      "Empty trace: CI.WBM.2C.HNE 2019-07-04T17:59:59.994500Z\r\n",
      "Empty trace: CI.WBM.2C.HNN 2019-07-04T17:59:59.994500Z\r\n",
      "Empty trace: CI.WBM.2C.HNZ 2019-07-04T17:59:59.994500Z\r\n"
     ]
    },
    {
     "name": "stdout",
     "output_type": "stream",
     "text": [
      "Empty trace: CI.WMF.2C.HNE 2019-07-04T17:59:59.994500Z\r\n",
      "Empty trace: CI.WMF.2C.HNN 2019-07-04T17:59:59.994500Z\r\n",
      "Empty trace: CI.WMF.2C.HNZ 2019-07-04T17:59:59.994500Z\r\n"
     ]
    },
    {
     "name": "stdout",
     "output_type": "stream",
     "text": [
      "Empty trace: CI.WNM.2C.HNE 2019-07-04T17:59:59.994500Z\r\n",
      "Empty trace: CI.WNM.2C.HNN 2019-07-04T17:59:59.994500Z\r\n",
      "Empty trace: CI.WNM.2C.HNZ 2019-07-04T17:59:59.994500Z\r\n"
     ]
    },
    {
     "name": "stdout",
     "output_type": "stream",
     "text": [
      "Empty trace: CI.WRV2.2C.HNE 2019-07-04T17:59:59.994500Z\r\n",
      "Empty trace: CI.WRV2.2C.HNN 2019-07-04T17:59:59.994500Z\r\n",
      "Empty trace: CI.WRV2.2C.HNZ 2019-07-04T17:59:59.994500Z\r\n"
     ]
    },
    {
     "name": "stdout",
     "output_type": "stream",
     "text": [
      "Empty trace: CI.WVP2.2C.HNE 2019-07-04T17:59:59.994500Z\r\n",
      "Empty trace: CI.WVP2.2C.HNN 2019-07-04T17:59:59.994500Z\r\n",
      "Empty trace: CI.WVP2.2C.HNZ 2019-07-04T17:59:59.994500Z\r\n"
     ]
    },
    {
     "name": "stdout",
     "output_type": "stream",
     "text": [
      "2025-06-03 02:38:18,650 Resampling CI.CCC..BHE from 40.0 to 100 Hz\r\n"
     ]
    },
    {
     "name": "stdout",
     "output_type": "stream",
     "text": [
      "2025-06-03 02:38:18,663 Resampling CI.CCC..BHN from 40.0 to 100 Hz\r\n",
      "2025-06-03 02:38:18,685 Resampling CI.CCC..BHZ from 40.0 to 100 Hz\r\n",
      "2025-06-03 02:38:18,690 Resampling CI.CLC..BHE from 40.0 to 100 Hz\r\n",
      "2025-06-03 02:38:18,695 Resampling CI.CLC..BHN from 40.0 to 100 Hz\r\n",
      "2025-06-03 02:38:18,701 Resampling CI.CLC..BHZ from 40.0 to 100 Hz\r\n",
      "2025-06-03 02:38:18,707 Resampling CI.DTP..BHE from 40.0 to 100 Hz\r\n",
      "2025-06-03 02:38:18,711 Resampling CI.DTP..BHN from 40.0 to 100 Hz\r\n"
     ]
    },
    {
     "name": "stdout",
     "output_type": "stream",
     "text": [
      "2025-06-03 02:38:18,716 Resampling CI.DTP..BHZ from 40.0 to 100 Hz\r\n",
      "2025-06-03 02:38:18,721 Resampling CI.JRC2..BHE from 40.0 to 100 Hz\r\n",
      "2025-06-03 02:38:18,727 Resampling CI.JRC2..BHN from 40.0 to 100 Hz\r\n",
      "2025-06-03 02:38:18,731 Resampling CI.JRC2..BHZ from 40.0 to 100 Hz\r\n",
      "2025-06-03 02:38:18,736 Resampling CI.LRL..BHE from 40.0 to 100 Hz\r\n",
      "2025-06-03 02:38:18,740 Resampling CI.LRL..BHN from 40.0 to 100 Hz\r\n",
      "2025-06-03 02:38:18,744 Resampling CI.LRL..BHZ from 40.0 to 100 Hz\r\n",
      "2025-06-03 02:38:18,748 Resampling CI.MPM..BHE from 40.0 to 100 Hz\r\n",
      "2025-06-03 02:38:18,752 Resampling CI.MPM..BHN from 40.0 to 100 Hz\r\n",
      "2025-06-03 02:38:18,757 Resampling CI.MPM..BHZ from 40.0 to 100 Hz\r\n",
      "2025-06-03 02:38:18,761 Resampling CI.SLA..BHE from 40.0 to 100 Hz\r\n"
     ]
    },
    {
     "name": "stdout",
     "output_type": "stream",
     "text": [
      "2025-06-03 02:38:18,765 Resampling CI.SLA..BHN from 40.0 to 100 Hz\r\n",
      "2025-06-03 02:38:18,769 Resampling CI.SLA..BHZ from 40.0 to 100 Hz\r\n",
      "2025-06-03 02:38:18,774 Resampling CI.SRT..BHE from 40.0 to 100 Hz\r\n",
      "2025-06-03 02:38:18,780 Resampling CI.SRT..BHN from 40.0 to 100 Hz\r\n",
      "2025-06-03 02:38:18,785 Resampling CI.SRT..BHZ from 40.0 to 100 Hz\r\n",
      "2025-06-03 02:38:18,790 Resampling CI.TOW2..BHE from 40.0 to 100 Hz\r\n",
      "2025-06-03 02:38:18,795 Resampling CI.TOW2..BHN from 40.0 to 100 Hz\r\n",
      "2025-06-03 02:38:18,801 Resampling CI.TOW2..BHZ from 40.0 to 100 Hz\r\n",
      "2025-06-03 02:38:18,806 Resampling CI.WBM..BHE from 40.0 to 100 Hz\r\n",
      "2025-06-03 02:38:18,812 Resampling CI.WBM..BHN from 40.0 to 100 Hz\r\n"
     ]
    },
    {
     "name": "stdout",
     "output_type": "stream",
     "text": [
      "2025-06-03 02:38:18,817 Resampling CI.WBM..BHZ from 40.0 to 100 Hz\r\n",
      "2025-06-03 02:38:18,823 Resampling CI.WCS2..BHE from 40.0 to 100 Hz\r\n",
      "2025-06-03 02:38:18,828 Resampling CI.WCS2..BHN from 40.0 to 100 Hz\r\n",
      "2025-06-03 02:38:18,833 Resampling CI.WCS2..BHZ from 40.0 to 100 Hz\r\n",
      "2025-06-03 02:38:18,839 Resampling CI.WMF..BHE from 40.0 to 100 Hz\r\n",
      "2025-06-03 02:38:18,844 Resampling CI.WMF..BHN from 40.0 to 100 Hz\r\n",
      "2025-06-03 02:38:18,849 Resampling CI.WMF..BHZ from 40.0 to 100 Hz\r\n",
      "2025-06-03 02:38:18,855 Resampling CI.WRC2..BHE from 40.0 to 100 Hz\r\n",
      "2025-06-03 02:38:18,860 Resampling CI.WRC2..BHN from 40.0 to 100 Hz\r\n",
      "2025-06-03 02:38:18,865 Resampling CI.WRC2..BHZ from 40.0 to 100 Hz\r\n"
     ]
    },
    {
     "name": "stdout",
     "output_type": "stream",
     "text": [
      "\r",
      "Pred:  50%|███████████████████▌                   | 1/2 [00:15<00:15, 15.44s/it]"
     ]
    },
    {
     "name": "stdout",
     "output_type": "stream",
     "text": [
      "Empty trace: CI.LRL.2C.HNE 2019-07-04T16:59:59.994500Z\r\n",
      "Empty trace: CI.LRL.2C.HNN 2019-07-04T16:59:59.994500Z\r\n",
      "Empty trace: CI.LRL.2C.HNZ 2019-07-04T16:59:59.994500Z\r\n"
     ]
    },
    {
     "name": "stdout",
     "output_type": "stream",
     "text": [
      "Empty trace: CI.Q0072.01.HNE 2019-07-04T16:59:59.994500Z\r\n",
      "Empty trace: CI.Q0072.01.HNN 2019-07-04T16:59:59.994500Z\r\n",
      "Empty trace: CI.Q0072.01.HNZ 2019-07-04T16:59:59.994500Z\r\n"
     ]
    },
    {
     "name": "stdout",
     "output_type": "stream",
     "text": [
      "Empty trace: CI.WBM.2C.HNE 2019-07-04T16:59:59.994500Z\r\n",
      "Empty trace: CI.WBM.2C.HNN 2019-07-04T16:59:59.994500Z\r\n",
      "Empty trace: CI.WBM.2C.HNZ 2019-07-04T16:59:59.994500Z\r\n"
     ]
    },
    {
     "name": "stdout",
     "output_type": "stream",
     "text": [
      "Empty trace: CI.WMF.2C.HNE 2019-07-04T16:59:59.994500Z\r\n",
      "Empty trace: CI.WMF.2C.HNN 2019-07-04T16:59:59.994500Z\r\n",
      "Empty trace: CI.WMF.2C.HNZ 2019-07-04T16:59:59.994500Z\r\n",
      "Empty trace: CI.WNM.2C.HNE 2019-07-04T16:59:59.994500Z\r\n",
      "Empty trace: CI.WNM.2C.HNN 2019-07-04T16:59:59.994500Z\r\n",
      "Empty trace: CI.WNM.2C.HNZ 2019-07-04T16:59:59.994500Z\r\n"
     ]
    },
    {
     "name": "stdout",
     "output_type": "stream",
     "text": [
      "Empty trace: CI.WRV2.2C.HNE 2019-07-04T16:59:59.994500Z\r\n",
      "Empty trace: CI.WRV2.2C.HNN 2019-07-04T16:59:59.994500Z\r\n",
      "Empty trace: CI.WRV2.2C.HNZ 2019-07-04T16:59:59.994500Z\r\n",
      "Empty trace: CI.WVP2.2C.HNE 2019-07-04T16:59:59.994500Z\r\n",
      "Empty trace: CI.WVP2.2C.HNN 2019-07-04T16:59:59.994500Z\r\n",
      "Empty trace: CI.WVP2.2C.HNZ 2019-07-04T16:59:59.994500Z\r\n"
     ]
    },
    {
     "name": "stdout",
     "output_type": "stream",
     "text": [
      "\r",
      "Pred: 100%|███████████████████████████████████████| 2/2 [00:29<00:00, 14.51s/it]\r",
      "Pred: 100%|███████████████████████████████████████| 2/2 [00:29<00:00, 14.65s/it]\r\n"
     ]
    },
    {
     "name": "stdout",
     "output_type": "stream",
     "text": [
      "Done with 8856 P-picks and 9294 S-picks\r\n"
     ]
    }
   ],
   "source": [
    "command = f\"python phasenet/predict.py --model=model/190703-214543 --data_dir='waveforms' --data_list='fname.csv' --stations='stations/stations.json' --result_dir='phasenet' --format=mseed_array --amplitude\"# --upload_waveform\"\n",
    "print(command)\n",
    "!{command}"
   ]
  },
  {
   "cell_type": "code",
   "execution_count": 3,
   "id": "8bcc3132",
   "metadata": {
    "execution": {
     "iopub.execute_input": "2025-06-03T02:38:36.636309Z",
     "iopub.status.busy": "2025-06-03T02:38:36.636001Z",
     "iopub.status.idle": "2025-06-03T02:38:36.639328Z",
     "shell.execute_reply": "2025-06-03T02:38:36.638848Z"
    },
    "papermill": {
     "duration": 0.00677,
     "end_time": "2025-06-03T02:38:36.640186",
     "exception": false,
     "start_time": "2025-06-03T02:38:36.633416",
     "status": "completed"
    },
    "tags": []
   },
   "outputs": [],
   "source": [
    "# Kubeflow Pipelines UI用のメタデータ出力\n",
    "if os.environ.get('ELYRA_RUNTIME_ENV') == 'kfp':\n",
    "    # For information about Elyra environment variables refer to\n",
    "    # https://elyra.readthedocs.io/en/stable/user_guide/best-practices-file-based-nodes.html#proprietary-environment-variables\n",
    "\n",
    "    metadata = {\n",
    "        'outputs': [\n",
    "            {\n",
    "                'storage': 'inline',\n",
    "                'source': f'# Run PhaseNet Complete\\n',\n",
    "                'type': 'markdown',\n",
    "            }\n",
    "        ]\n",
    "    }\n",
    "\n",
    "    with open('mlpipeline-ui-metadata.json', 'w') as f:\n",
    "        json.dump(metadata, f)"
   ]
  }
 ],
 "metadata": {
  "kernelspec": {
   "display_name": "Python 3 (ipykernel)",
   "language": "python",
   "name": "python3"
  },
  "language_info": {
   "codemirror_mode": {
    "name": "ipython",
    "version": 3
   },
   "file_extension": ".py",
   "mimetype": "text/x-python",
   "name": "python",
   "nbconvert_exporter": "python",
   "pygments_lexer": "ipython3",
   "version": "3.10.13"
  },
  "papermill": {
   "default_parameters": {},
   "duration": 44.317681,
   "end_time": "2025-06-03T02:38:36.757289",
   "environment_variables": {},
   "exception": null,
   "input_path": "Run_PhaseNet.ipynb",
   "output_path": "Run_PhaseNet-output.ipynb",
   "parameters": {},
   "start_time": "2025-06-03T02:37:52.439608",
   "version": "2.6.0"
  }
 },
 "nbformat": 4,
 "nbformat_minor": 5
}
