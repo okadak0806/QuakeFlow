{
 "cells": [
  {
   "cell_type": "code",
   "execution_count": null,
   "metadata": {},
   "outputs": [],
   "source": [
    "# waveforms.tar.gzを展開\n",
    "import tarfile\n",
    "import os\n",
    "\n",
    "if os.path.exists('waveforms.tar.gz'):\n",
    "    with tarfile.open('waveforms.tar.gz', 'r:gz') as tar:\n",
    "        tar.extractall()\n",
    "    \n",
    "    if os.path.exists('waveforms'):\n",
    "        print(f\"Extracted waveforms directory with {len(os.listdir('waveforms'))} files\")\n",
    "        print(\"Sample files:\", os.listdir('waveforms')[:5])\n",
    "    else:\n",
    "        print(\"ERROR: Failed to extract waveforms directory\")\n",
    "else:\n",
    "    print(\"ERROR: waveforms.tar.gz not found\")"
   ]
  },
  {
   "cell_type": "code",
   "execution_count": null,
   "metadata": {},
   "outputs": [],
   "source": [
    "command = f\"python phasenet/predict.py --model=model/190703-214543 --data_dir='waveforms' --data_list='fname.csv' --stations='stations/stations.json' --result_dir='phasenet' --format=mseed_array --amplitude\"# --upload_waveform\"\n",
    "print(command)\n",
    "!{command}"
   ]
  },
  {
   "cell_type": "code",
   "execution_count": null,
   "metadata": {},
   "outputs": [],
   "source": [
    "# Kubeflow Pipelines UI用のメタデータ出力\n",
    "if os.environ.get('ELYRA_RUNTIME_ENV') == 'kfp':\n",
    "    # For information about Elyra environment variables refer to\n",
    "    # https://elyra.readthedocs.io/en/stable/user_guide/best-practices-file-based-nodes.html#proprietary-environment-variables\n",
    "\n",
    "    metadata = {\n",
    "        'outputs': [\n",
    "            {\n",
    "                'storage': 'inline',\n",
    "                'source': f'# Run PhaseNet Complete\\n',\n",
    "                'type': 'markdown',\n",
    "            }\n",
    "        ]\n",
    "    }\n",
    "\n",
    "    with open('mlpipeline-ui-metadata.json', 'w') as f:\n",
    "        json.dump(metadata, f)"
   ]
  }
 ],
 "metadata": {
  "kernelspec": {
   "display_name": "Python 3 (ipykernel)",
   "language": "python",
   "name": "python3"
  },
  "language_info": {
   "codemirror_mode": {
    "name": "ipython",
    "version": 3
   },
   "file_extension": ".py",
   "mimetype": "text/x-python",
   "name": "python",
   "nbconvert_exporter": "python",
   "pygments_lexer": "ipython3",
   "version": "3.10.13"
  }
 },
 "nbformat": 4,
 "nbformat_minor": 4
}
