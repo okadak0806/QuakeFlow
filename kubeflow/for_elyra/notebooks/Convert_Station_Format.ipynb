{
 "cells": [
  {
   "cell_type": "code",
   "execution_count": null,
   "id": "e5c68952",
   "metadata": {},
   "outputs": [],
   "source": [
    "import os\n",
    "import json\n",
    "\n",
    "import pandas as pd\n",
    "from tqdm import tqdm\n"
   ]
  },
  {
   "cell_type": "code",
   "execution_count": null,
   "id": "334f780d",
   "metadata": {},
   "outputs": [],
   "source": [
    "config_json=\"config/config.json\"\n",
    "station_json=\"stations/stations.json\"\n",
    "hypoinverse_station=\"hypoinv/stations.dat\"\n",
    "hypodd_station=\"hypodd/stations.dat\"\n",
    "data_path=\"./\""
   ]
  },
  {
   "cell_type": "code",
   "execution_count": null,
   "id": "b8dfdb9a",
   "metadata": {},
   "outputs": [],
   "source": [
    "\n",
    "\n",
    "with open(config_json, \"r\") as fp:\n",
    "    config = json.load(fp)\n",
    "\n",
    "hypodd_path = os.path.join(data_path, \"hypodd\")\n",
    "if not os.path.exists(hypodd_path):\n",
    "    os.mkdir(hypodd_path)\n",
    "hypoinv_path = os.path.join(data_path, \"hypoinv\")\n",
    "if not os.path.exists(hypoinv_path):\n",
    "    os.mkdir(hypoinv_path)\n",
    "\n",
    "stations = pd.read_json(station_json, orient=\"index\")\n",
    "\n",
    "converted_hypoinverse = []\n",
    "converted_hypodd = {}\n",
    "\n",
    "for sta, row in tqdm(stations.iterrows()):\n",
    "\n",
    "    network_code, station_code, comp_code, channel_code = sta.split(\".\")\n",
    "    station_weight = \" \"\n",
    "    lat_degree = int(row[\"latitude\"])\n",
    "    lat_minute = (row[\"latitude\"] - lat_degree) * 60\n",
    "    north = \"N\" if lat_degree >= 0 else \"S\"\n",
    "    lng_degree = int(row[\"longitude\"])\n",
    "    lng_minute = (row[\"longitude\"] - lng_degree) * 60\n",
    "    west = \"W\" if lng_degree <= 0 else \"E\"\n",
    "    elevation = row[\"elevation(m)\"]\n",
    "    line_hypoinverse = f\"{station_code:<5} {network_code:<2} {comp_code[:-1]:<1}{channel_code:<3} {station_weight}{abs(lat_degree):2.0f} {abs(lat_minute):7.4f}{north}{abs(lng_degree):3.0f} {abs(lng_minute):7.4f}{west}{elevation:4.0f}\\n\"\n",
    "    converted_hypoinverse.append(line_hypoinverse)\n",
    "\n",
    "    tmp_code = f\"{station_code}{channel_code}\"\n",
    "    converted_hypodd[\n",
    "        f\"{station_code}{channel_code}\"\n",
    "    ] = f\"{tmp_code:<8s} {row['latitude']:.3f} {row['longitude']:.3f}\\n\"\n",
    "\n",
    "with open(hypoinverse_station, \"w\") as f:\n",
    "    f.writelines(converted_hypoinverse)\n",
    "\n",
    "with open(hypodd_station, \"w\") as f:\n",
    "    for k, v in converted_hypodd.items():\n",
    "        f.write(v)"
   ]
  },
  {
   "cell_type": "code",
   "execution_count": null,
   "id": "c2a22dde",
   "metadata": {},
   "outputs": [],
   "source": [
    "def split_hypodd(\n",
    "    config_json,\n",
    "    catalog_csv,\n",
    ") -> list:\n",
    "\n",
    "    import json\n",
    "    import pandas as pd\n",
    "\n",
    "    with open(config_json, \"r\") as fp:\n",
    "        config = json.load(fp)\n",
    "\n",
    "    events = pd.read_csv(catalog_csv)\n",
    "\n",
    "    if \"MAXEVENT\" in config[\"hypodd\"]:\n",
    "        MAXEVENT = config[\"hypodd\"][\"MAXEVENT\"]\n",
    "    else:\n",
    "        MAXEVENT = 1e4  ## segment by time\n",
    "\n",
    "    MAXEVENT = len(events) // ((len(events) - 1) // MAXEVENT + 1) + 1\n",
    "    num_parallel = int((len(events) - 1) // MAXEVENT + 1)\n",
    "\n",
    "    return list(range(num_parallel))"
   ]
  },
  {
   "cell_type": "code",
   "execution_count": null,
   "id": "483e9594",
   "metadata": {},
   "outputs": [],
   "source": [
    "nodes = split_hypodd(\n",
    "    \"config/config.json\",\n",
    "    \"gamma/gamma_catalog.csv\",\n",
    ")\n",
    "with open('num_parallel.txt', 'w') as f:\n",
    "    f.write(str(nodes))"
   ]
  },
  {
   "cell_type": "code",
   "execution_count": 8,
   "id": "e0f2fcde",
   "metadata": {
    "execution": {
     "iopub.execute_input": "2025-06-03T02:33:27.435238Z",
     "iopub.status.busy": "2025-06-03T02:33:27.434883Z",
     "iopub.status.idle": "2025-06-03T02:33:27.438600Z",
     "shell.execute_reply": "2025-06-03T02:33:27.437997Z"
    },
    "papermill": {
     "duration": 0.006845,
     "end_time": "2025-06-03T02:33:27.439654",
     "exception": false,
     "start_time": "2025-06-03T02:33:27.432809",
     "status": "completed"
    },
    "tags": []
   },
   "outputs": [],
   "source": [
    "# Kubeflow Pipelines UI用のメタデータ出力\n",
    "if os.environ.get('ELYRA_RUNTIME_ENV') == 'kfp':\n",
    "    # For information about Elyra environment variables refer to\n",
    "    # https://elyra.readthedocs.io/en/stable/user_guide/best-practices-file-based-nodes.html#proprietary-environment-variables\n",
    "\n",
    "    metadata = {\n",
    "        'outputs': [\n",
    "            {\n",
    "                'storage': 'inline',\n",
    "                'source': f'# Convert Station Format Complete\\n...',\n",
    "                'type': 'markdown',\n",
    "            }\n",
    "        ]\n",
    "    }\n",
    "\n",
    "    with open('mlpipeline-ui-metadata.json', 'w') as f:\n",
    "        json.dump(metadata, f)"
   ]
  }
 ],
 "metadata": {
  "kernelspec": {
   "display_name": "Python 3 (ipykernel)",
   "language": "python",
   "name": "python3"
  },
  "language_info": {
   "codemirror_mode": {
    "name": "ipython",
    "version": 3
   },
   "file_extension": ".py",
   "mimetype": "text/x-python",
   "name": "python",
   "nbconvert_exporter": "python",
   "pygments_lexer": "ipython3",
   "version": "3.10.13"
  },
  "papermill": {
   "default_parameters": {},
   "duration": 0.969604,
   "end_time": "2025-06-03T02:33:27.556863",
   "environment_variables": {},
   "exception": null,
   "input_path": "Set_Config.ipynb",
   "output_path": "Set_Config-output.ipynb",
   "parameters": {},
   "start_time": "2025-06-03T02:33:26.587259",
   "version": "2.6.0"
  }
 },
 "nbformat": 4,
 "nbformat_minor": 5
}
