import datetime
import json
import os
from pathlib import Path
import pickle
import numpy as np
import obspy


# 環境変数から設定を取得
region_name = os.environ.get('REGION_NAME', 'Demo')
num_parallel = int(os.environ.get('NUM_PARALLEL', '1'))



degree2km = np.pi * 6371 / 180

# 地域別設定（elifを使用）
if region_name == "Demo":
    center = (-117.504, 35.705)
    horizontal_degree = 1.0
    vertical_degree = 1.0
    starttime = obspy.UTCDateTime("2019-07-04T17")
    endtime = obspy.UTCDateTime("2019-07-04T19")
    client = "SCEDC"
    network_list = ["CI"]
    channel_list = "HH*,BH*,EH*,HN*"

elif region_name == "Ridgecrest":
    center = (-117.504, 35.705)
    horizontal_degree = 1.0
    vertical_degree = 1.0
    starttime = obspy.UTCDateTime("2019-07-04T00")
    endtime = obspy.UTCDateTime("2019-07-10T00")
    client = "SCEDC"
    network_list = ["CI"]
    channel_list = "HH*,BH*,EH*,HN*"

elif region_name == "Japan":
    center = (138.0, 36.0)
    horizontal_degree = 10.0
    vertical_degree = 8.0
    starttime = obspy.UTCDateTime("2024-01-01T00")
    endtime = obspy.UTCDateTime("2024-01-31T00")
    client = "NIED"
    network_list = ["N.NIED"]
    channel_list = "HH*,BH*,EH*"

elif region_name == "Hawaii":
    center = (-155.32, 19.39)
    horizontal_degree = 2.0
    vertical_degree = 2.0
    starttime = obspy.UTCDateTime("2018-01-01T00")
    endtime = obspy.UTCDateTime("2022-08-12T00")
    client = "IRIS"
    network_list = ["HV", "PT"]
    channel_list = "HH*,BH*,EH*,HN*"

elif region_name == "Hawaii2":
    center = (-155.32, 19.39)
    horizontal_degree = 2.0
    vertical_degree = 2.0
    starttime = obspy.UTCDateTime("2022-08-01T00")
    endtime = obspy.UTCDateTime("2022-08-16T00")
    client = "IRIS"
    network_list = ["HV", "PT"]
    channel_list = "HH*,BH*,EH*,HN*"

elif region_name == "PuertoRico":
    center = (-66.5, 18)
    horizontal_degree = 3.0
    vertical_degree = 2.0
    starttime = obspy.UTCDateTime("2018-05-01T00")
    endtime = obspy.UTCDateTime("2021-11-01T00")
    client = "IRIS"
    network_list = ["*"]
    channel_list = "HH*,BH*,HN*"

elif region_name == "SaltonSea":
    center = (-115.53, 32.98)
    horizontal_degree = 1.0
    vertical_degree = 1.0
    starttime = obspy.UTCDateTime("2020-10-01T00")
    endtime = obspy.UTCDateTime("2020-10-01T02")
    client = "SCEDC"
    network_list = ["CI"]
    channel_list = "HH*,BH*,EH*,HN*"

elif region_name == "2003SanSimeon":
    center = (-121.101, 35.701)
    horizontal_degree = 1.0
    vertical_degree = 1.0
    starttime = obspy.UTCDateTime("2003-12-22T00")
    endtime = obspy.UTCDateTime("2003-12-24T00")
    client = "NCEDC"
    network_list = ["*"]
    channel_list = "HH*,BH*,EH*,HN*"

elif region_name == "Italy":
    center = (13.188, 42.723)
    horizontal_degree = 1.0
    vertical_degree = 1.0
    starttime = obspy.UTCDateTime("2016-08-24T00")
    endtime = obspy.UTCDateTime("2016-08-26T00")
    client = "INGV"
    network_list = ["*"]
    channel_list = "HH*,BH*,EH*,HN*"

elif region_name == "SmithValley":
    center = (-119.5, 38.51)
    horizontal_degree = 1.0
    vertical_degree = 1.0
    starttime = obspy.UTCDateTime("2021-07-08T00:00")
    endtime = obspy.UTCDateTime("2021-07-16T00:00")
    client = "NCEDC"
    network_list = ["*"]
    channel_list = "HH*,BH*,EH*,HN*"

elif region_name == "Antilles":
    center = (-61.14867, 14.79683)
    horizontal_degree = 0.2
    vertical_degree = 0.2
    starttime = obspy.UTCDateTime("2021-04-10T00")
    endtime = obspy.UTCDateTime("2021-04-15T00")
    client = "RESIF"
    network_list = ["*"]
    channel_list = "HH*,BH*,EH*,HN*"

elif region_name == "LongValley":
    center = (-118.8 - 0.1, 37.6)
    horizontal_degree = 1.5
    vertical_degree = 1.5
    starttime = obspy.UTCDateTime("2020-01-01T00")
    endtime = obspy.UTCDateTime("2022-08-11T00")
    client = "NCEDC"
    network_list = ["*"]
    channel_list = "HH*,EH*"

elif region_name == "SierraNegra":
    center = (-91.13, -0.81)
    horizontal_degree = 1.5
    vertical_degree = 1.5
    starttime = obspy.UTCDateTime("2009-07-22T00")
    endtime = obspy.UTCDateTime("2011-06-20T00")
    client = "IRIS"
    network_list = ["*"]
    channel_list = "BH*,HH*,EH*"

else:
    # デフォルト設定
    center = (-117.504, 35.705)
    horizontal_degree = 1.0
    vertical_degree = 1.0
    starttime = obspy.UTCDateTime("2019-07-04T00")
    endtime = obspy.UTCDateTime("2019-07-10T00")
    client = "SCEDC"
    network_list = ["CI"]
    channel_list = "HH*,BH*,EH*,HN*"

print(f"Center coordinates: {center}")
print(f"Time range: {starttime} to {endtime}")
print(f"Networks: {network_list}")
print(f"Channels: {channel_list}")


config_dir_name ='config'
config_dir = Path(config_dir_name)
if not config_dir.exists():
    config_dir.mkdir(parents=True)

config_json = config_dir / 'config.json'
datetime_json = config_dir / 'datetime.json'
index_json = config_dir / 'index.json'


# 設定辞書を作成
config = {
    "region": region_name,
    "center": center,
    "xlim_degree": [
        center[0] - horizontal_degree / 2,
        center[0] + horizontal_degree / 2,
    ],
    "ylim_degree": [
        center[1] - vertical_degree / 2,
        center[1] + vertical_degree / 2,
    ],
    "min_longitude": center[0] - horizontal_degree / 2,
    "max_longitude": center[0] + horizontal_degree / 2,
    "min_latitude": center[1] - vertical_degree / 2,
    "max_latitude": center[1] + vertical_degree / 2,
    "degree2km": degree2km,
    "starttime": starttime.datetime.isoformat(timespec="milliseconds"),
    "endtime": endtime.datetime.isoformat(timespec="milliseconds"),
    "networks": network_list,
    "channels": channel_list,
    "client": client,
    "phasenet": {},
    "gamma": {},
    "hypodd": {"MAXEVENT": 1e4}
}

# 設定ファイルを保存
with open(config_json, "w") as fp:
    json.dump(config, fp, indent=2)

print(f"Configuration created for region: {region_name}")
print(json.dumps(config, indent=2))


# 並列処理用のインデックスを作成
one_hour = datetime.timedelta(hours=1)
starttimes = []
tmp_start = starttime
while tmp_start < endtime:
    starttimes.append(tmp_start.datetime.isoformat(timespec="milliseconds"))
    tmp_start += one_hour

# 日時情報を保存
with open(datetime_json, "w") as fp:
    json.dump(
        {"starttimes": starttimes, "interval": one_hour.total_seconds()},
        fp,
        indent=2,
    )

# 並列処理のインデックスを作成
if num_parallel == 0:
    num_parallel = min(60, int((len(starttimes) - 1) // 6 + 1))

idx = [x.tolist() for x in np.array_split(np.arange(len(starttimes)), num_parallel)]

with open(index_json, "w") as fp:
    json.dump(idx, fp, indent=2)

print(f"Created {len(starttimes)} time slots for {num_parallel} parallel processes")
print(f"Time slots per process: {[len(x) for x in idx]}")


print(f"Configuration files saved locally in '{config_dir_name}/' directory:")
for config_file in [config_json, datetime_json, index_json]:
    if config_file.exists():
        print(f"  - {config_file}")
        
print(f"Files will be automatically synchronized to MinIO bucket by Elyra runtime")


# Kubeflow Pipelines UI用のメタデータ出力
if os.environ.get('ELYRA_RUNTIME_ENV') == 'kfp':
    # For information about Elyra environment variables refer to
    # https://elyra.readthedocs.io/en/stable/user_guide/best-practices-file-based-nodes.html#proprietary-environment-variables

    metadata = {
        'outputs': [
            {
                'storage': 'inline',
                'source': f'# Configuration Setup Complete\n...',
                'type': 'markdown',
            }
        ]
    }

    with open('mlpipeline-ui-metadata.json', 'w') as f:
        json.dump(metadata, f)
