# waveforms.tar.gzを展開
import tarfile
import os
import json

if os.path.exists('waveforms.tar.gz'):
    with tarfile.open('waveforms.tar.gz', 'r:gz') as tar:
        tar.extractall()
    
    if os.path.exists('waveforms'):
        print(f"Extracted waveforms directory with {len(os.listdir('waveforms'))} files")
        print("Sample files:", os.listdir('waveforms')[:5])
    else:
        print("ERROR: Failed to extract waveforms directory")
else:
    print("ERROR: waveforms.tar.gz not found")


command = f"python phasenet/predict.py --model=model/190703-214543 --data_dir='waveforms' --data_list='fname.csv' --stations='stations/stations.json' --result_dir='phasenet' --format=mseed_array --amplitude"# --upload_waveform"
print(command)
get_ipython().getoutput("{command}")


# Kubeflow Pipelines UI用のメタデータ出力
if os.environ.get('ELYRA_RUNTIME_ENV') == 'kfp':
    # For information about Elyra environment variables refer to
    # https://elyra.readthedocs.io/en/stable/user_guide/best-practices-file-based-nodes.html#proprietary-environment-variables

    metadata = {
        'outputs': [
            {
                'storage': 'inline',
                'source': f'# Run PhaseNet Complete\n',
                'type': 'markdown',
            }
        ]
    }

    with open('mlpipeline-ui-metadata.json', 'w') as f:
        json.dump(metadata, f)
