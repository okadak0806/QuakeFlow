




















import obspy
import os
import pickle
import datetime

# Location
pi = 3.1415926
degree2km = pi*6371/180
center = (-115.53, 32.98) #salton sea
horizontal_degree = 0.5
vertical_degree = 0.5
zero_anchor = (center[0]-horizontal_degree, center[1]-vertical_degree)

# Time
starttime = obspy.UTCDateTime("2020-10-01T00")
endtime = obspy.UTCDateTime("2020-10-01T02") ## not included

# seismic stations
network_list = "CI"
# channel_list = "HNE,HNN,HNZ,HHE,HHN,HHZ,BHE,BHN,BHZ,EHE,EHN,EHZ"
channel_list = "HHE,HHN,HHZ"

config_file = "config.pkl"
datetime_file = "datetimes.pkl"
station_file = "stations.pkl"
data_path = "data"
station_list = "stations.csv"
fname_list = "fname.csv"
if not os.path.exists(data_path):
    os.mkdir(data_path)
####### save config ########
config = {}
config["center"] = center
config["horizontal_degree"] = horizontal_degree
config["vertical_degree"] = vertical_degree
config["zero_anchor"] = zero_anchor
config["xlim"] = [0, horizontal_degree*2*degree2km]
config["ylim"] = [0, vertical_degree*2*degree2km]
config["anchor"] = zero_anchor
config["degree2km"] = degree2km
config["starttime"] = starttime
config["endtime"] = endtime
config["networks"] = network_list
config["channels"] = channel_list
config["network_list"] = network_list
config["channel_list"] = channel_list
with open(config_file, "wb") as fp:
    pickle.dump(config, fp)

one_day = datetime.timedelta(days=1)
one_hour = datetime.timedelta(hours=1)
starttimes = []
tmp_start = starttime
while tmp_start < endtime:
    starttimes.append(tmp_start)
    tmp_start += one_hour

with open(datetime_file, "wb") as fp:
    pickle.dump({"starttimes": starttimes, "interval": one_hour}, fp)



from obspy.clients.fdsn import Client
import matplotlib
# matplotlib.use("agg")
import matplotlib.pyplot as plt
from collections import defaultdict
import pandas as pd

with open(config_file, "rb") as fp:
    config = pickle.load(fp)

####### Download stations ########
stations = Client("IRIS").get_stations(network = config["network_list"],
                                       station = "*",
                                       starttime=config["starttime"],
                                       endtime=config["endtime"],
                                       minlatitude=config["center"][1]-config["vertical_degree"],
                                       maxlatitude=config["center"][1]+config["vertical_degree"],
                                       minlongitude=config["center"][0]-config["horizontal_degree"],
                                       maxlongitude=config["center"][0]+config["horizontal_degree"],
                                       channel=config["channel_list"],
                                       level="response",
                                       filename=os.path.join(data_path, 'stations.xml'))

stations = obspy.read_inventory(os.path.join(data_path, 'stations.xml'))
print("Number of stations: {}".format(sum([len(x) for x in stations])))
# stations.plot('local', outfile="stations.png")

####### Save stations ########
station_locs = defaultdict(dict)
for network in stations:
    for station in network:
        for chn in station:
            x = (chn.longitude - config["zero_anchor"][0])*config["degree2km"]
            y = (chn.latitude - config["zero_anchor"][1])*config["degree2km"]
            z = -chn.elevation / 1e3 #km
            sid = f"{network.code}.{station.code}.{chn.location_code}.{chn.code[:-1]}"
            if sid in station_locs:
                station_locs[sid]["component"] += f",{chn.code[-1]}"
                station_locs[sid]["response"] += f",{chn.response.instrument_sensitivity.value:.2f}"
            else:
                component = f"{chn.code[-1]}"
                response = f"{chn.response.instrument_sensitivity.value:.2f}"
                dtype = chn.response.instrument_sensitivity.input_units.lower()
                tmp_dict = {}
                tmp_dict["x(km)"], tmp_dict["y(km)"], tmp_dict["z(km)"] = x, y, z
                tmp_dict["lng"], tmp_dict["lat"], tmp_dict["elv(m)"] = chn.longitude, chn.latitude, chn.elevation
                tmp_dict["component"], tmp_dict["response"], tmp_dict["type"] = component, response, dtype
                station_locs[sid] = tmp_dict
station_locs = pd.DataFrame.from_dict(station_locs, orient='index')
station_locs.to_csv(station_list,
                    sep="\t", float_format="%.3f",
                    index_label="station",
                    columns=["x(km)", "y(km)", "z(km)", "lat", "lng", "elv(m)", "type", "component", "response"])

#     ####### Plot stations ########
plt.figure()
plt.plot(station_locs["x(km)"], station_locs["y(km)"], "^", label="Stations")
#     plt.plot(catalog["x(km)"], catalog["y(km)"], "k.", label="Earthquakes")
plt.xlabel("X (km)")
plt.ylabel("Y (km)")
plt.axis("scaled")
plt.legend()
plt.title(f"Number of stations: {len(station_locs)}")
#     plt.savefig(os.path.join(data_path, "stations_events.png"))
plt.show()

with open(station_file, "wb") as fp:
    pickle.dump(stations, fp)


with open(config_file, "rb") as fp:
    config = pickle.load(fp)
with open(datetime_file, "rb") as fp:
    tmp = pickle.load(fp)
    starttimes = tmp["starttimes"]
    interval = tmp["interval"]
with open(station_file, "rb") as fp:
    stations = pickle.load(fp)

waveform_dir = os.path.join(data_path, "waveforms")
####### Download data ########
client = Client("SCEDC")
fp = open(fname_list, "w")
fp.write("fname\n")
# for i in idx: 
for i in range(len(starttimes)):
    starttime = starttimes[i] 
    endtime = starttime + interval
    fname = "{}.mseed".format(starttime.datetime.strftime("%Y-%m-%dT%H"))

    max_retry = 3
    stream = obspy.Stream()
    print(f"{fname} download starts")
    for network in stations:
        for station in network:
            retry = 0
            while retry < max_retry:
                try:
                    tmp = client.get_waveforms(network.code, station.code, "*", config["channel_list"], starttime, endtime)
                    stream += tmp
                    break
                except Exception as e:
                    err = e
                    retry += 1
                    time.sleep(1)
                    continue
            if retry == max_retry:
                print(f"{fname}: MAX {max_retry} retries reached : {network.code}.{station.code} with error: {err}")

    if not os.path.exists(waveform_dir):
        os.makedirs(waveform_dir)
    stream.write(os.path.join(waveform_dir, fname))
    print(f"{fname} download succeeds")
    fp.write(f"{fname}\n")

fp.close()
print(os.listdir(waveform_dir))



