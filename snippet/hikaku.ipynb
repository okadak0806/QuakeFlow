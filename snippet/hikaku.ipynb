{
 "cells": [
  {
   "cell_type": "markdown",
   "metadata": {},
   "source": "# カタログ値とPhaseNet検測の比較サンプル\n\nこのノートブックでは、ObsPyを使用してサンプル地震波形データをダウンロードし、地震カタログの検測値とPhaseNetによる自動検測結果を可視化して比較します。"
  },
  {
   "cell_type": "markdown",
   "metadata": {},
   "source": [
    "## セル 1: 必要なライブラリのインポート\n",
    "まずは、ObsPyやプロット用のMatplotlibなどをインポートします。"
   ]
  },
  {
   "cell_type": "code",
   "execution_count": null,
   "metadata": {},
   "outputs": [],
   "source": [
    "# ObsPyコア機能\n",
    "import obspy\n",
    "from obspy import UTCDateTime\n",
    "\n",
    "# FDSNクライアント（波形データをダウンロードするため）\n",
    "from obspy.clients.fdsn import Client\n",
    "\n",
    "# グラフ描画ライブラリ\n",
    "import matplotlib.pyplot as plt\n",
    "\n",
    "print(\"ライブラリのインポートが完了しました。\")"
   ]
  },
  {
   "cell_type": "markdown",
   "metadata": {},
   "source": [
    "## セル 2: サンプル波形データの準備\n",
    "ここでは例として、2011年の東北地方太平洋沖地震の波形データを、FDSNクライアント経由で取得します。"
   ]
  },
  {
   "cell_type": "code",
   "execution_count": null,
   "metadata": {},
   "outputs": [],
   "source": [
    "# IRISのデータセンターに接続\n",
    "client = Client(\"IRIS\")\n",
    "\n",
    "# 2011年東北地方太平洋沖地震の発生時刻\n",
    "t = UTCDateTime(\"2011-03-11T05:46:23\")\n",
    "\n",
    "# ドイツの観測点(BFO)の波形データを取得 (地震発生から15分間)\n",
    "# LHZ: 長周期上下動成分\n",
    "st = client.get_waveforms(\"GR\", \"BFO\", \"00\", \"LHZ\", t, t + 15 * 60)\n",
    "\n",
    "# ノイズ除去のためバンドパスフィルターを適用\n",
    "st.filter(\"bandpass\", freqmin=0.01, freqmax=0.1)\n",
    "\n",
    "# 扱いやすいように、Streamオブジェクトから最初のTraceオブジェクトを取り出す\n",
    "tr = st[0]\n",
    "\n",
    "print(\"波形データ:\")\n",
    "print(tr)"
   ]
  },
  {
   "cell_type": "markdown",
   "metadata": {},
   "source": "## セル 3: カタログ値とPhaseNet検測データの準備\n実際にはカタログファイルやPhaseNetの出力結果から読み込むことになりますが、ここではサンプルとしてPythonの辞書型でデータを作成します。時刻は UTCDateTime で指定します。"
  },
  {
   "cell_type": "code",
   "execution_count": null,
   "metadata": {},
   "outputs": [],
   "source": "# 地震波形の開始時刻を基準にする\nt0 = tr.stats.starttime\n\n# カタログ値とPhaseNetの検測データを辞書で定義\n# { '検測手法': {'P': P波時刻, 'S': S波時刻} }\ndetection_picks = {\n    'Catalog': {\n        'P': t0 + 715,\n        'S': t0 + 820\n    },\n    'PhaseNet': {\n        'P': t0 + 718,\n        'S': t0 + 817\n    }\n}\n\n# 色とスタイルの定義\npick_styles = {\n    'Catalog': {\n        'color': 'red',\n        'linestyle': '-',\n        'linewidth': 2\n    },\n    'PhaseNet': {\n        'color': 'blue',\n        'linestyle': '-',\n        'linewidth': 2\n    }\n}\n\nprint(\"検測データの準備が完了しました。\")\nprint(\"カタログ値:\", detection_picks['Catalog'])\nprint(\"PhaseNet:\", detection_picks['PhaseNet'])"
  },
  {
   "cell_type": "markdown",
   "metadata": {},
   "source": "## セル 4: 波形とカタログ値・PhaseNet検測位置をプロットして比較\n波形の上に、カタログ値とPhaseNetの検測位置を色分けした縦線で描画して比較します。"
  },
  {
   "cell_type": "code",
   "execution_count": null,
   "metadata": {},
   "outputs": [],
   "source": "# グラフのサイズを指定\nfig, ax = plt.subplots(figsize=(15, 6))\n\n# 1. 波形をプロット\n# x軸をmatplotlibの数値形式に変換してプロット\nax.plot(tr.times(\"matplotlib\"), tr.data, \"k-\", label=\"Waveform\", alpha=0.7)\n\n# 2. カタログ値とPhaseNetの検測位置をプロット\nfor method, picks in detection_picks.items():\n    style = pick_styles[method]\n    \n    # P波のピッキング位置に縦線を描画 (実線)\n    p_time_mpl = picks['P'].matplotlib_date\n    ax.axvline(p_time_mpl, \n               color=style['color'], \n               linestyle=style['linestyle'], \n               linewidth=style['linewidth'],\n               label=f'{method} - P wave')\n    \n    # S波のピッキング位置に縦線を描画 (破線)\n    s_time_mpl = picks['S'].matplotlib_date\n    ax.axvline(s_time_mpl, \n               color=style['color'], \n               linestyle='--', \n               linewidth=style['linewidth'],\n               label=f'{method} - S wave')\n\n# 3. グラフの体裁を整える\nax.set_title(\"Comparison of Catalog vs PhaseNet Seismic Phase Picks\", fontsize=16)\nax.set_xlabel(f\"Time since {tr.stats.starttime.strftime('%Y-%m-%d %H:%M:%S')} [s]\", fontsize=12)\nax.set_ylabel(\"Amplitude\", fontsize=12)\nax.legend(loc='upper right') # 凡例を表示\nax.grid(True, alpha=0.3) # グリッド線を表示\n\n# x軸のラベルをmatplotlibの日付形式から秒数に変換して見やすくする\nfrom obspy.imaging.scripts.scan import _set_xaxis_obspy_datetimes\n_set_xaxis_obspy_datetimes(ax, tr.stats.starttime)\n\n# P波とS波の検測時差を計算して表示\ncatalog_ps_diff = detection_picks['Catalog']['S'] - detection_picks['Catalog']['P']\nphasenet_ps_diff = detection_picks['PhaseNet']['S'] - detection_picks['PhaseNet']['P']\n\nprint(f\"カタログ値 P-S時差: {catalog_ps_diff:.2f} 秒\")\nprint(f\"PhaseNet P-S時差: {phasenet_ps_diff:.2f} 秒\")\nprint(f\"P-S時差の差: {abs(catalog_ps_diff - phasenet_ps_diff):.2f} 秒\")\n\nplt.tight_layout()\nplt.show()"
  },
  {
   "cell_type": "markdown",
   "source": "## 今後の拡張計画\n\nこのノートブックの検測比較機能をベースに、以下のようなWeb GUIシステムの開発を計画しています。",
   "metadata": {}
  },
  {
   "cell_type": "markdown",
   "source": "### セル 5: Web GUIシステムの機能仕様\n\n計画中のWeb GUIシステムは以下の機能を持つ予定です：\n\n#### 主要機能\n1. **波形表示とインタラクティブ編集**\n   - リアルタイム波形表示\n   - マウスクリックによるピッキング位置の修正\n   - ズーム・パン機能による詳細確認\n\n2. **PhaseNet結果の品質管理**\n   - 確信度スコアによる検測結果のフィルタリング\n   - 低確信度データの優先表示\n   - バッチ処理による効率的な検証作業\n\n3. **解析者支援機能**\n   - 複数解析者による相互検証システム\n   - 修正履歴の管理と追跡\n   - 統計情報とレポート生成",
   "metadata": {}
  },
  {
   "cell_type": "markdown",
   "source": "### セル 6: システム拡張による利点\n\n#### 1. 段階的導入による安全性\n- **初期段階**: 人間による全数検証でリスクを最小化\n- **中期段階**: 高確信度データの自動承認による効率化\n- **長期段階**: PhaseNet精度向上に伴う完全自動化への移行\n\n#### 2. 品質保証とトレーサビリティ\n- **専門知識の活用**: 地震学者の経験を検測結果に反映\n- **一貫性の確保**: 統一された基準による品質管理\n- **修正履歴**: 全ての変更を記録し、監査可能な体制を構築\n\n#### 3. 継続的改善サイクル\n- **学習データの蓄積**: 修正結果をPhaseNetの再学習に活用\n- **地域特性の反映**: 各観測網の特徴を学習モデルに組み込み\n- **性能向上の可視化**: 精度改善の過程を定量的に評価",
   "metadata": {}
  },
  {
   "cell_type": "code",
   "source": "# セル 7: システム拡張のためのサンプルコード構造\n\n# 将来のWeb GUIシステムで使用予定の基本的なデータ構造例\n\nclass PhaseNetResult:\n    \"\"\"PhaseNet検測結果のデータクラス\"\"\"\n    def __init__(self, station, time, phase, confidence, is_verified=False):\n        self.station = station\n        self.time = time\n        self.phase = phase  # 'P' or 'S'\n        self.confidence = confidence  # 0.0 - 1.0\n        self.is_verified = is_verified\n        self.modified_by = None\n        self.modified_time = None\n\nclass VerificationSession:\n    \"\"\"検証セッションの管理クラス\"\"\"\n    def __init__(self, analyst_id):\n        self.analyst_id = analyst_id\n        self.results = []\n        self.statistics = {\n            'total_reviewed': 0,\n            'modifications_made': 0,\n            'accuracy_improvement': 0.0\n        }\n    \n    def verify_pick(self, result, new_time=None, approved=True):\n        \"\"\"検測結果の検証・修正\"\"\"\n        if new_time:\n            result.time = new_time\n            self.statistics['modifications_made'] += 1\n        result.is_verified = approved\n        result.modified_by = self.analyst_id\n        result.modified_time = UTCDateTime.now()\n        self.statistics['total_reviewed'] += 1\n\n# サンプルデータの作成\nsample_phasenet_results = [\n    PhaseNetResult('BFO', t0 + 718, 'P', 0.95),\n    PhaseNetResult('BFO', t0 + 817, 'S', 0.87),\n]\n\nprint(\"Web GUIシステム用のデータ構造例を定義しました。\")\nprint(f\"PhaseNet P波検測: 時刻={sample_phasenet_results[0].time}, 確信度={sample_phasenet_results[0].confidence}\")\nprint(f\"PhaseNet S波検測: 時刻={sample_phasenet_results[1].time}, 確信度={sample_phasenet_results[1].confidence}\")",
   "metadata": {},
   "execution_count": null,
   "outputs": []
  }
 ],
 "metadata": {
  "kernelspec": {
   "display_name": "Python 3",
   "language": "python",
   "name": "python3"
  },
  "language_info": {
   "codemirror_mode": {
    "name": "ipython",
    "version": 3
   },
   "file_extension": ".py",
   "mimetype": "text/x-python",
   "name": "python",
   "nbconvert_exporter": "python",
   "pygments_lexer": "ipython3",
   "version": "3.8.0"
  }
 },
 "nbformat": 4,
 "nbformat_minor": 4
}